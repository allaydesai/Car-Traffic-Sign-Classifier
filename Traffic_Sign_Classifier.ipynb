{
 "cells": [
  {
   "cell_type": "markdown",
   "metadata": {},
   "source": [
    "# Self-Driving Car Engineer Nanodegree\n",
    "\n",
    "## Deep Learning\n",
    "\n",
    "## Project: Build a Traffic Sign Recognition Classifier\n",
    "\n",
    "In this notebook, a template is provided for you to implement your functionality in stages, which is required to successfully complete this project. If additional code is required that cannot be included in the notebook, be sure that the Python code is successfully imported and included in your submission if necessary. \n",
    "\n",
    "> **Note**: Once you have completed all of the code implementations, you need to finalize your work by exporting the iPython Notebook as an HTML document. Before exporting the notebook to html, all of the code cells need to have been run so that reviewers can see the final implementation and output. You can then export the notebook by using the menu above and navigating to  \\n\",\n",
    "    \"**File -> Download as -> HTML (.html)**. Include the finished document along with this notebook as your submission. \n",
    "\n",
    "In addition to implementing code, there is a writeup to complete. The writeup should be completed in a separate file, which can be either a markdown file or a pdf document. There is a [write up template](https://github.com/udacity/CarND-Traffic-Sign-Classifier-Project/blob/master/writeup_template.md) that can be used to guide the writing process. Completing the code template and writeup template will cover all of the [rubric points](https://review.udacity.com/#!/rubrics/481/view) for this project.\n",
    "\n",
    "The [rubric](https://review.udacity.com/#!/rubrics/481/view) contains \"Stand Out Suggestions\" for enhancing the project beyond the minimum requirements. The stand out suggestions are optional. If you decide to pursue the \"stand out suggestions\", you can include the code in this Ipython notebook and also discuss the results in the writeup file.\n",
    "\n",
    "\n",
    ">**Note:** Code and Markdown cells can be executed using the **Shift + Enter** keyboard shortcut. In addition, Markdown cells can be edited by typically double-clicking the cell to enter edit mode."
   ]
  },
  {
   "cell_type": "markdown",
   "metadata": {},
   "source": [
    "---\n",
    "## Step 0: Load The Data"
   ]
  },
  {
   "cell_type": "code",
   "execution_count": 1,
   "metadata": {
    "collapsed": true
   },
   "outputs": [],
   "source": [
    "# Load pickled data\n",
    "import pickle\n",
    "from sklearn.utils import shuffle\n",
    "#import tensorflow as tf\n",
    "\n",
    "# TODO: Fill this in based on where you saved the training and testing data\n",
    "\n",
    "training_file = 'traffic-signs-data/train.p'\n",
    "validation_file='traffic-signs-data/valid.p'\n",
    "testing_file = 'traffic-signs-data/test.p'\n",
    "\n",
    "with open(training_file, mode='rb') as f:\n",
    "    train = pickle.load(f)\n",
    "with open(validation_file, mode='rb') as f:\n",
    "    valid = pickle.load(f)\n",
    "with open(testing_file, mode='rb') as f:\n",
    "    test = pickle.load(f)\n",
    "    \n",
    "X_train, y_train = train['features'], train['labels']\n",
    "X_valid, y_valid = valid['features'], valid['labels']\n",
    "X_test, y_test = test['features'], test['labels']"
   ]
  },
  {
   "cell_type": "code",
   "execution_count": 2,
   "metadata": {},
   "outputs": [
    {
     "name": "stderr",
     "output_type": "stream",
     "text": [
      "C:\\Users\\Allay\\Anaconda3\\envs\\Selfdriving\\lib\\site-packages\\h5py\\__init__.py:36: FutureWarning: Conversion of the second argument of issubdtype from `float` to `np.floating` is deprecated. In future, it will be treated as `np.float64 == np.dtype(float).type`.\n",
      "  from ._conv import register_converters as _register_converters\n"
     ]
    }
   ],
   "source": [
    "import tensorflow as tf\n",
    "\n",
    "config = tf.ConfigProto()\n",
    "config.gpu_options.allow_growth = True\n",
    "session = tf.Session(config=config)"
   ]
  },
  {
   "cell_type": "markdown",
   "metadata": {},
   "source": [
    "---\n",
    "\n",
    "## Step 1: Dataset Summary & Exploration\n",
    "\n",
    "The pickled data is a dictionary with 4 key/value pairs:\n",
    "\n",
    "- `'features'` is a 4D array containing raw pixel data of the traffic sign images, (num examples, width, height, channels).\n",
    "- `'labels'` is a 1D array containing the label/class id of the traffic sign. The file `signnames.csv` contains id -> name mappings for each id.\n",
    "- `'sizes'` is a list containing tuples, (width, height) representing the original width and height the image.\n",
    "- `'coords'` is a list containing tuples, (x1, y1, x2, y2) representing coordinates of a bounding box around the sign in the image. **THESE COORDINATES ASSUME THE ORIGINAL IMAGE. THE PICKLED DATA CONTAINS RESIZED VERSIONS (32 by 32) OF THESE IMAGES**\n",
    "\n",
    "Complete the basic data summary below. Use python, numpy and/or pandas methods to calculate the data summary rather than hard coding the results. For example, the [pandas shape method](http://pandas.pydata.org/pandas-docs/stable/generated/pandas.DataFrame.shape.html) might be useful for calculating some of the summary results. "
   ]
  },
  {
   "cell_type": "markdown",
   "metadata": {},
   "source": [
    "### Provide a Basic Summary of the Data Set Using Python, Numpy and/or Pandas"
   ]
  },
  {
   "cell_type": "code",
   "execution_count": 3,
   "metadata": {},
   "outputs": [
    {
     "name": "stdout",
     "output_type": "stream",
     "text": [
      "Number of training examples = 34799\n",
      "Number of validation examples = 4410\n",
      "Number of testing examples = 12630\n",
      "Image data shape = (32, 32, 3)\n",
      "Number of classes = 43\n"
     ]
    }
   ],
   "source": [
    "### Replace each question mark with the appropriate value. \n",
    "### Use python, pandas or numpy methods rather than hard coding the results\n",
    "import numpy as np\n",
    "# TODO: Number of training examples\n",
    "n_train = X_train.shape[0]\n",
    "\n",
    "# TODO: Number of validation examples\n",
    "n_validation = X_valid.shape[0]\n",
    "\n",
    "# TODO: Number of testing examples.\n",
    "n_test = X_test.shape[0]\n",
    "\n",
    "# TODO: What's the shape of an traffic sign image?\n",
    "image_shape = X_train.shape[1:]\n",
    "\n",
    "# TODO: How many unique classes/labels there are in the dataset.\n",
    "n_classes, counts = np.unique(y_train, return_counts=True)\n",
    "\n",
    "print(\"Number of training examples =\", n_train)\n",
    "print(\"Number of validation examples =\", n_validation)\n",
    "print(\"Number of testing examples =\", n_test)\n",
    "print(\"Image data shape =\", image_shape)\n",
    "print(\"Number of classes =\", len(n_classes))"
   ]
  },
  {
   "cell_type": "markdown",
   "metadata": {},
   "source": [
    "### Include an exploratory visualization of the dataset"
   ]
  },
  {
   "cell_type": "markdown",
   "metadata": {},
   "source": [
    "Visualize the German Traffic Signs Dataset using the pickled file(s). This is open ended, suggestions include: plotting traffic sign images, plotting the count of each sign, etc. \n",
    "\n",
    "The [Matplotlib](http://matplotlib.org/) [examples](http://matplotlib.org/examples/index.html) and [gallery](http://matplotlib.org/gallery.html) pages are a great resource for doing visualizations in Python.\n",
    "\n",
    "**NOTE:** It's recommended you start with something simple first. If you wish to do more, come back to it after you've completed the rest of the sections. It can be interesting to look at the distribution of classes in the training, validation and test set. Is the distribution the same? Are there more examples of some classes than others?"
   ]
  },
  {
   "cell_type": "code",
   "execution_count": 4,
   "metadata": {
    "collapsed": true
   },
   "outputs": [],
   "source": [
    "import matplotlib.pyplot as plt\n",
    "# Visualizations will be shown in the notebook.\n",
    "%matplotlib inline"
   ]
  },
  {
   "cell_type": "markdown",
   "metadata": {},
   "source": [
    "### Visualizing Training Data"
   ]
  },
  {
   "cell_type": "code",
   "execution_count": 5,
   "metadata": {},
   "outputs": [
    {
     "name": "stdout",
     "output_type": "stream",
     "text": [
      "Training Index:  22338\n",
      "Training Label:  13\n",
      "Training Image: \n"
     ]
    },
    {
     "data": {
      "image/png": "[encoded data removed]",
      "text/plain": [
       "<matplotlib.figure.Figure at 0x2768aa746d8>"
      ]
     },
     "metadata": {},
     "output_type": "display_data"
    }
   ],
   "source": [
    "import random\n",
    "\n",
    "index = random.randint(0, len(X_train))\n",
    "image = X_train[index].squeeze()\n",
    "\n",
    "plt.figure(figsize=(3,3))\n",
    "plt.imshow(image.reshape((32,32,3)))\n",
    "print('Training Index: ', index)\n",
    "print('Training Label: ',y_train[index])\n",
    "print('Training Image: ')"
   ]
  },
  {
   "cell_type": "markdown",
   "metadata": {},
   "source": [
    "## Training Data Distribution"
   ]
  },
  {
   "cell_type": "code",
   "execution_count": 6,
   "metadata": {},
   "outputs": [
    {
     "data": {
      "image/png": "[encoded data removed]",
      "text/plain": [
       "<matplotlib.figure.Figure at 0x2768ab26160>"
      ]
     },
     "metadata": {},
     "output_type": "display_data"
    }
   ],
   "source": [
    "# Data distrbution\n",
    "plt.rcParams[\"figure.figsize\"] = [15, 5]\n",
    "axes = plt.gca()\n",
    "axes.set_xlim([-1,43])\n",
    "\n",
    "plt.bar(n_classes, counts, tick_label=n_classes, width=0.8, align='center')\n",
    "plt.title('Distribution of Training Data across Classes')\n",
    "plt.show()"
   ]
  },
  {
   "cell_type": "markdown",
   "metadata": {},
   "source": [
    "## Testing Data Distribution"
   ]
  },
  {
   "cell_type": "code",
   "execution_count": 7,
   "metadata": {},
   "outputs": [
    {
     "data": {
      "image/png": "[encoded data removed]",
      "text/plain": [
       "<matplotlib.figure.Figure at 0x2768a03b128>"
      ]
     },
     "metadata": {},
     "output_type": "display_data"
    }
   ],
   "source": [
    "n_classes, counts = np.unique(y_test, return_counts=True)\n",
    "\n",
    "plt.rcParams[\"figure.figsize\"] = [15, 5]\n",
    "axes = plt.gca()\n",
    "axes.set_xlim([-1,43])\n",
    "\n",
    "plt.bar(n_classes, counts, tick_label=n_classes, width=0.8, align='center')\n",
    "plt.title('Distribution of Testing Data across Classes')\n",
    "plt.show()"
   ]
  },
  {
   "cell_type": "markdown",
   "metadata": {},
   "source": [
    "## Pre-process the Data Set (normalization, grayscale, etc.)"
   ]
  },
  {
   "cell_type": "markdown",
   "metadata": {},
   "source": [
    "Minimally, the image data should be normalized so that the data has mean zero and equal variance. For image data, `(pixel - 128)/ 128` is a quick way to approximately normalize the data and can be used in this project. \n",
    "\n",
    "Other pre-processing steps are optional. You can try different techniques to see if it improves performance. \n",
    "\n",
    "Use the code cell (or multiple code cells, if necessary) to implement the first step of your project."
   ]
  },
  {
   "cell_type": "code",
   "execution_count": 8,
   "metadata": {
    "collapsed": true
   },
   "outputs": [],
   "source": [
    "is_features_normal = False\n",
    "is_labels_encod = False"
   ]
  },
  {
   "cell_type": "markdown",
   "metadata": {},
   "source": [
    "### Convert to Grayscale Image"
   ]
  },
  {
   "cell_type": "code",
   "execution_count": 9,
   "metadata": {},
   "outputs": [],
   "source": [
    "# def rgb2gray(rgb):\n",
    "#   return np.dot(rgb[...,:3], [0.299, 0.587, 0.114])\n",
    "# train_features = np.array([rgb2gray(feature) for feature in X_train])\n",
    "# test_features = np.array([rgb2gray(feature) for feature in X_test])\n",
    "# valid_features = np.array([rgb2gray(feature) for feature in X_valid])\n",
    "# train_features.shape"
   ]
  },
  {
   "cell_type": "code",
   "execution_count": 10,
   "metadata": {
    "collapsed": true
   },
   "outputs": [],
   "source": [
    "train_features = np.array(X_train.copy())\n",
    "test_features = np.array(X_test.copy())\n",
    "valid_features = np.array(X_valid.copy())"
   ]
  },
  {
   "cell_type": "code",
   "execution_count": 11,
   "metadata": {},
   "outputs": [
    {
     "data": {
      "image/png": "[encoded data removed]",
      "text/plain": [
       "<matplotlib.figure.Figure at 0x27695526ac8>"
      ]
     },
     "metadata": {},
     "output_type": "display_data"
    }
   ],
   "source": [
    "plt.subplot(1,2,1)\n",
    "plt.imshow(X_train[50].reshape((32,32,3)))\n",
    "plt.subplot(1,2,2)\n",
    "plt.imshow(train_features[50], cmap= plt.get_cmap('gray'))\n",
    "plt.tight_layout()\n",
    "plt.show()"
   ]
  },
  {
   "cell_type": "markdown",
   "metadata": {},
   "source": [
    "## Normalize Image"
   ]
  },
  {
   "cell_type": "code",
   "execution_count": 12,
   "metadata": {
    "collapsed": true
   },
   "outputs": [],
   "source": [
    "### Preprocess the data here. It is required to normalize the data. Other preprocessing steps could include \n",
    "\n",
    "def normalize_grayscale(images_data):\n",
    "    \"\"\"\n",
    "    Normalize the image data with Min-Max scaling to a range of [0.1, 0.9]\n",
    "    :param image_data: The image data to be normalized\n",
    "    :return: Normalized image data\n",
    "    \"\"\"\n",
    "    images_new = np.average(images_data, axis=3)\n",
    "    images_new = np.expand_dims(images_new, axis=3)\n",
    "    images_new = (images_new - 128.) / 128.    \n",
    "    return images_new\n",
    "\n",
    "if not is_features_normal:\n",
    "    train_features = normalize_grayscale(train_features)\n",
    "    valid_features = normalize_grayscale(valid_features)\n",
    "    test_features = normalize_grayscale(test_features)\n",
    "    is_features_normal = True\n",
    "### converting to grayscale, etc.\n",
    "### Feel free to use as many code cells as needed."
   ]
  },
  {
   "cell_type": "code",
   "execution_count": 13,
   "metadata": {},
   "outputs": [
    {
     "data": {
      "text/plain": [
       "(34799, 32, 32, 1)"
      ]
     },
     "execution_count": 13,
     "metadata": {},
     "output_type": "execute_result"
    }
   ],
   "source": [
    "train_features.shape"
   ]
  },
  {
   "cell_type": "code",
   "execution_count": 14,
   "metadata": {},
   "outputs": [
    {
     "data": {
      "text/plain": [
       "<matplotlib.image.AxesImage at 0x2769588ed68>"
      ]
     },
     "execution_count": 14,
     "metadata": {},
     "output_type": "execute_result"
    },
    {
     "data": {
      "image/png": "[encoded data removed]",
      "text/plain": [
       "<matplotlib.figure.Figure at 0x276957d7ef0>"
      ]
     },
     "metadata": {},
     "output_type": "display_data"
    }
   ],
   "source": [
    "plt.imshow(train_features[50].reshape(32,32), cmap= plt.get_cmap('gray'))"
   ]
  },
  {
   "cell_type": "markdown",
   "metadata": {},
   "source": [
    "### One Hot Encode Labels"
   ]
  },
  {
   "cell_type": "code",
   "execution_count": 15,
   "metadata": {
    "collapsed": true
   },
   "outputs": [],
   "source": [
    "from sklearn.preprocessing import LabelBinarizer\n",
    "if not is_labels_encod:\n",
    "    # Turn labels into numbers and apply One-Hot Encoding\n",
    "    encoder = LabelBinarizer()\n",
    "    encoder.fit(y_train)\n",
    "    train_labels = encoder.transform(y_train)\n",
    "    valid_labels = encoder.transform(y_valid)\n",
    "    test_labels = encoder.transform(y_test)\n",
    "    # Change to float32, so it can be multiplied against the features in TensorFlow, which are float32\n",
    "    train_labels = train_labels.astype(np.float32)\n",
    "    test_labels = test_labels.astype(np.float32)\n",
    "    is_labels_encod = True"
   ]
  },
  {
   "cell_type": "code",
   "execution_count": 16,
   "metadata": {},
   "outputs": [
    {
     "data": {
      "text/plain": [
       "(41, array([0., 0., 0., 0., 0., 0., 0., 0., 0., 0., 0., 0., 0., 0., 0., 0., 0.,\n",
       "        0., 0., 0., 0., 0., 0., 0., 0., 0., 0., 0., 0., 0., 0., 0., 0., 0.,\n",
       "        0., 0., 0., 0., 0., 0., 0., 1., 0.], dtype=float32))"
      ]
     },
     "execution_count": 16,
     "metadata": {},
     "output_type": "execute_result"
    }
   ],
   "source": [
    "y_train[50], train_labels[50]"
   ]
  },
  {
   "cell_type": "markdown",
   "metadata": {},
   "source": [
    "### Preprocessed Data"
   ]
  },
  {
   "cell_type": "code",
   "execution_count": 17,
   "metadata": {},
   "outputs": [
    {
     "name": "stdout",
     "output_type": "stream",
     "text": [
      "[0. 0. 0. 0. 0. 0. 0. 0. 0. 0. 0. 0. 0. 0. 0. 0. 1. 0. 0. 0. 0. 0. 0. 0.\n",
      " 0. 0. 0. 0. 0. 0. 0. 0. 0. 0. 0. 0. 0. 0. 0. 0. 0. 0. 0.]\n"
     ]
    },
    {
     "data": {
      "image/png": "[encoded data removed]",
      "text/plain": [
       "<matplotlib.figure.Figure at 0x276d42fc550>"
      ]
     },
     "metadata": {},
     "output_type": "display_data"
    }
   ],
   "source": [
    "index = random.randint(0, len(X_train))\n",
    "image = train_features[index].squeeze()\n",
    "\n",
    "plt.figure(figsize=(3,3))\n",
    "plt.imshow(image.reshape((32,32)),cmap='gray')\n",
    "print(train_labels[index])"
   ]
  },
  {
   "cell_type": "markdown",
   "metadata": {},
   "source": [
    "## MODEL PARAMETERS"
   ]
  },
  {
   "cell_type": "code",
   "execution_count": 18,
   "metadata": {
    "collapsed": true
   },
   "outputs": [],
   "source": [
    "x = tf.placeholder(tf.float32, (None, 32, 32, 1))\n",
    "y = tf.placeholder(tf.int32, (None, 43))\n",
    "batch = tf.Variable(0)\n",
    "keep_prob = tf.placeholder(tf.float32)"
   ]
  },
  {
   "cell_type": "code",
   "execution_count": 19,
   "metadata": {
    "collapsed": true
   },
   "outputs": [],
   "source": [
    "# Parameters\n",
    "epochs = 70\n",
    "batch_size = 128\n",
    "\n",
    "# Number of samples to calculate validation and accuracy\n",
    "# Decrease this if you're running out of memory to calculate accuracy\n",
    "test_valid_size = 256"
   ]
  },
  {
   "cell_type": "markdown",
   "metadata": {},
   "source": [
    "### Define and initialize model parameters "
   ]
  },
  {
   "cell_type": "code",
   "execution_count": 20,
   "metadata": {
    "collapsed": true
   },
   "outputs": [],
   "source": [
    "### Define your architecture here.\n",
    "### Feel free to use as many code cells as needed.\n",
    "#import tensorflow as tf\n",
    "# Store layers weight & bias\n",
    "mean_wt = 0 \n",
    "stanDev = 0.1\n",
    "\n",
    "weights = {\n",
    "    'wc1': tf.Variable(tf.truncated_normal(shape=(5, 5, 1, 6), mean=mean_wt, stddev=stanDev)),\n",
    "    'wc2': tf.Variable(tf.truncated_normal(shape=(5, 5, 6, 16), mean=mean_wt, stddev=stanDev)),\n",
    "    'fc1': tf.Variable(tf.truncated_normal(shape=(400, 200), mean=mean_wt, stddev=stanDev)),\n",
    "    'fc2': tf.Variable(tf.truncated_normal(shape=(200, 100), mean=mean_wt, stddev=stanDev)),\n",
    "    'out': tf.Variable(tf.truncated_normal(shape=(100, len(n_classes)), mean=mean_wt, stddev=stanDev))\n",
    "}\n",
    "\n",
    "biases = {\n",
    "    'bc1': tf.Variable(tf.zeros(6)),\n",
    "    'bc2': tf.Variable(tf.zeros(16)),\n",
    "    'bf1': tf.Variable(tf.zeros(200)),\n",
    "    'bf2': tf.Variable(tf.zeros(100)),\n",
    "    'out': tf.Variable(tf.zeros(len(n_classes)))\n",
    "}\n",
    "\n",
    "strides ={\n",
    "    'conv1': [1,1,1,1],\n",
    "    'maxPool1':[1,2,2,1],\n",
    "    'conv2' : [1,1,1,1],\n",
    "    'maxPool2':[1,2,2,1]\n",
    "}\n",
    "\n",
    "filters ={\n",
    "    'maxPool1': [1,2,2,1],\n",
    "    'maxPool2': [1,2,2,1]\n",
    "}"
   ]
  },
  {
   "cell_type": "markdown",
   "metadata": {},
   "source": [
    "### Network Architecture"
   ]
  },
  {
   "cell_type": "code",
   "execution_count": 21,
   "metadata": {},
   "outputs": [
    {
     "data": {
      "text/plain": [
       "(34799, 32, 32, 1)"
      ]
     },
     "execution_count": 21,
     "metadata": {},
     "output_type": "execute_result"
    }
   ],
   "source": [
    "train_features.shape"
   ]
  },
  {
   "cell_type": "code",
   "execution_count": 22,
   "metadata": {
    "collapsed": true
   },
   "outputs": [],
   "source": [
    "def LeNet(x):\n",
    "     #x = tf.reshape(x,(-1,32,32,1))\n",
    "    mean_wt = 0 \n",
    "    stanDev = 0.1\n",
    "    ### Layer 1 ###\n",
    "    # convolution\n",
    "    conv_layer1_W = tf.Variable(tf.truncated_normal(shape=(5, 5, 1, 6), mean = mean_wt, stddev = stanDev))\n",
    "    conv_layer1_b = tf.Variable(tf.zeros(6))\n",
    "    conv_layer1 = tf.nn.conv2d(x, conv_layer1_W, strides=[1, 1, 1, 1], padding='VALID') + conv_layer1_b\n",
    "    #print(tf.shape(conv_layer1))\n",
    "    # activation\n",
    "    conv_layer1 = tf.nn.relu(conv_layer1)\n",
    "    # pooling\n",
    "    conv_layer1 = tf.nn.max_pool(conv_layer1, ksize=[1, 2, 2, 1], strides=[1, 2, 2, 1], padding='VALID')\n",
    "    ### Layer 2 ###\n",
    "    # convolution\n",
    "    conv_layer2_W = tf.Variable(tf.truncated_normal(shape=(5, 5, 6, 16), mean = mean_wt, stddev = stanDev))\n",
    "    conv_layer2_b = tf.Variable(tf.zeros(16))\n",
    "    conv_layer2 = tf.nn.conv2d(conv_layer1, conv_layer2_W, strides=[1, 1, 1, 1], padding='VALID') + conv_layer2_b\n",
    "    # activation\n",
    "    conv_layer2 = tf.nn.relu(conv_layer2)\n",
    "    # pooling\n",
    "    conv_layer2 = tf.nn.max_pool(conv_layer2, ksize=[1, 2, 2, 1], strides=[1, 2, 2, 1], padding='VALID')\n",
    "    ### Layer 3 ###\n",
    "    # flatten\n",
    "    flatten = tf.contrib.layers.flatten(conv_layer2)\n",
    "    ### Layer 4 ###\n",
    "    # fully connected\n",
    "    fc1_W = tf.Variable(tf.truncated_normal(shape=(400, 200), mean = mean_wt, stddev = stanDev))\n",
    "    fc1_b = tf.Variable(tf.zeros(200))\n",
    "    fc1   = tf.matmul(flatten, fc1_W) + fc1_b\n",
    "    # activation\n",
    "    fc1 = tf.nn.relu(fc1)\n",
    "    fc1 = tf.nn.dropout(fc1, keep_prob)\n",
    "    ### Layer 5 ###\n",
    "    # fully connected\n",
    "    fc2_W  = tf.Variable(tf.truncated_normal(shape=(200, 100), mean = mean_wt, stddev = stanDev))\n",
    "    fc2_b  = tf.Variable(tf.zeros(100))\n",
    "    fc2    = tf.matmul(fc1, fc2_W) + fc2_b\n",
    "    fc2 = tf.matmul(fc1, fc2_W) + fc2_b\n",
    "    # activation\n",
    "    fc2 = tf.nn.relu(fc2)\n",
    "    fc2 = tf.nn.dropout(fc2, keep_prob)\n",
    "    ### Layer 6 ###\n",
    "     # fully connected\n",
    "    out_W  = tf.Variable(tf.truncated_normal(shape=(100, 43), mean = mean_wt, stddev = stanDev))\n",
    "    out_b  = tf.Variable(tf.zeros(43))\n",
    "    logits = tf.matmul(fc2, out_W) + out_b\n",
    "    \n",
    "    return logits, fc1_W, fc2_W, out_W"
   ]
  },
  {
   "cell_type": "markdown",
   "metadata": {},
   "source": [
    "### Training pipeline"
   ]
  },
  {
   "cell_type": "code",
   "execution_count": 23,
   "metadata": {},
   "outputs": [
    {
     "name": "stdout",
     "output_type": "stream",
     "text": [
      "WARNING:tensorflow:From C:\\Users\\Allay\\Anaconda3\\envs\\Selfdriving\\lib\\site-packages\\tensorflow\\contrib\\learn\\python\\learn\\datasets\\base.py:198: retry (from tensorflow.contrib.learn.python.learn.datasets.base) is deprecated and will be removed in a future version.\n",
      "Instructions for updating:\n",
      "Use the retry module or similar alternatives.\n",
      "WARNING:tensorflow:From <ipython-input-23-1cd32c123723>:4: softmax_cross_entropy_with_logits (from tensorflow.python.ops.nn_ops) is deprecated and will be removed in a future version.\n",
      "Instructions for updating:\n",
      "\n",
      "Future major versions of TensorFlow will allow gradients to flow\n",
      "into the labels input on backprop by default.\n",
      "\n",
      "See tf.nn.softmax_cross_entropy_with_logits_v2.\n",
      "\n"
     ]
    }
   ],
   "source": [
    "# Forward pass\n",
    "logits, fc1_w, fc2_w, fc3_w = LeNet(x)#, weights, biases, strides, filters)\n",
    "# Calculate loss\n",
    "cross_entropy = tf.nn.softmax_cross_entropy_with_logits(logits = logits, labels = y)\n",
    "loss_operation = tf.reduce_mean(cross_entropy)\n",
    "# Regularize\n",
    "beta = 0.01\n",
    "regularizer = tf.nn.l2_loss(fc1_w) + tf.nn.l2_loss(fc2_w) + tf.nn.l2_loss(fc3_w)\n",
    "cost = tf.reduce_mean(loss_operation + beta * regularizer)\n",
    "\n",
    "# Define loss and optimizer\n",
    "learning_rate = tf.train.exponential_decay(0.001, batch * batch_size, n_train*10, 0.5, staircase=True)\n",
    "optimizer = tf.train.AdamOptimizer(learning_rate = learning_rate)\n",
    "training_operation = optimizer.minimize(cost)\n"
   ]
  },
  {
   "cell_type": "markdown",
   "metadata": {},
   "source": [
    "### Model Evaluation"
   ]
  },
  {
   "cell_type": "code",
   "execution_count": 24,
   "metadata": {
    "collapsed": true
   },
   "outputs": [],
   "source": [
    "correct_prediction = tf.equal(tf.argmax(logits, 1), tf.argmax(y, 1))\n",
    "accuracy_operation = tf.reduce_mean(tf.cast(correct_prediction, tf.float32))\n",
    "saver = tf.train.Saver()"
   ]
  },
  {
   "cell_type": "markdown",
   "metadata": {},
   "source": [
    "### Train, Validate and Test the Model"
   ]
  },
  {
   "cell_type": "markdown",
   "metadata": {},
   "source": [
    "A validation set can be used to assess how well the model is performing. A low accuracy on the training and validation\n",
    "sets imply underfitting. A high accuracy on the training set but low accuracy on the validation set implies overfitting."
   ]
  },
  {
   "cell_type": "code",
   "execution_count": 25,
   "metadata": {
    "scrolled": true
   },
   "outputs": [
    {
     "name": "stdout",
     "output_type": "stream",
     "text": [
      "Training...\n",
      "\n",
      "Epoch  1 Loss:     1.7262 Training Accuracy: 0.677060 Validation Accuracy: 0.619274\n",
      "Epoch  2 Loss:     1.1561 Training Accuracy: 0.845858 Validation Accuracy: 0.777324\n",
      "Epoch  3 Loss:     0.9031 Training Accuracy: 0.902727 Validation Accuracy: 0.859637\n",
      "Epoch  4 Loss:     0.7541 Training Accuracy: 0.918733 Validation Accuracy: 0.880726\n",
      "Epoch  5 Loss:     0.7546 Training Accuracy: 0.929624 Validation Accuracy: 0.891156\n",
      "Epoch  6 Loss:     0.6626 Training Accuracy: 0.952326 Validation Accuracy: 0.918367\n",
      "Epoch  7 Loss:     0.6905 Training Accuracy: 0.950114 Validation Accuracy: 0.900227\n",
      "Epoch  8 Loss:     0.5868 Training Accuracy: 0.951981 Validation Accuracy: 0.907029\n",
      "Epoch  9 Loss:     0.5697 Training Accuracy: 0.963648 Validation Accuracy: 0.917687\n",
      "Epoch 10 Loss:     0.5351 Training Accuracy: 0.968246 Validation Accuracy: 0.925850\n",
      "Epoch 11 Loss:     0.4761 Training Accuracy: 0.966350 Validation Accuracy: 0.918594\n",
      "Epoch 12 Loss:     0.5105 Training Accuracy: 0.970258 Validation Accuracy: 0.929705\n",
      "Epoch 13 Loss:     0.4674 Training Accuracy: 0.968850 Validation Accuracy: 0.928571\n",
      "Epoch 14 Loss:     0.4863 Training Accuracy: 0.972183 Validation Accuracy: 0.934921\n",
      "Epoch 15 Loss:     0.4544 Training Accuracy: 0.968591 Validation Accuracy: 0.931973\n",
      "Epoch 16 Loss:     0.4404 Training Accuracy: 0.967269 Validation Accuracy: 0.923810\n",
      "Epoch 17 Loss:     0.4450 Training Accuracy: 0.976206 Validation Accuracy: 0.940816\n",
      "Epoch 18 Loss:     0.4243 Training Accuracy: 0.976149 Validation Accuracy: 0.943084\n",
      "Epoch 19 Loss:     0.5350 Training Accuracy: 0.972729 Validation Accuracy: 0.931293\n",
      "Epoch 20 Loss:     0.4845 Training Accuracy: 0.978792 Validation Accuracy: 0.944898\n",
      "Epoch 21 Loss:     0.4888 Training Accuracy: 0.978678 Validation Accuracy: 0.931973\n",
      "Epoch 22 Loss:     0.3899 Training Accuracy: 0.982212 Validation Accuracy: 0.947392\n",
      "Epoch 23 Loss:     0.4256 Training Accuracy: 0.982816 Validation Accuracy: 0.944444\n",
      "Epoch 24 Loss:     0.4148 Training Accuracy: 0.975948 Validation Accuracy: 0.937642\n",
      "Epoch 25 Loss:     0.4401 Training Accuracy: 0.979022 Validation Accuracy: 0.930159\n",
      "Epoch 26 Loss:     0.3782 Training Accuracy: 0.982643 Validation Accuracy: 0.949433\n",
      "Epoch 27 Loss:     0.3845 Training Accuracy: 0.984195 Validation Accuracy: 0.948526\n",
      "Epoch 28 Loss:     0.3541 Training Accuracy: 0.984023 Validation Accuracy: 0.941043\n",
      "Epoch 29 Loss:     0.3642 Training Accuracy: 0.982471 Validation Accuracy: 0.939002\n",
      "Epoch 30 Loss:     0.4208 Training Accuracy: 0.984080 Validation Accuracy: 0.943764\n",
      "Epoch 31 Loss:     0.3946 Training Accuracy: 0.982931 Validation Accuracy: 0.941270\n",
      "Epoch 32 Loss:     0.3732 Training Accuracy: 0.983448 Validation Accuracy: 0.943991\n",
      "Epoch 33 Loss:     0.4970 Training Accuracy: 0.985287 Validation Accuracy: 0.950340\n",
      "Epoch 34 Loss:     0.3777 Training Accuracy: 0.983046 Validation Accuracy: 0.948526\n",
      "Epoch 35 Loss:     0.3737 Training Accuracy: 0.984741 Validation Accuracy: 0.942857\n",
      "Epoch 36 Loss:     0.3913 Training Accuracy: 0.986235 Validation Accuracy: 0.946032\n",
      "Epoch 37 Loss:     0.3870 Training Accuracy: 0.986005 Validation Accuracy: 0.948753\n",
      "Epoch 38 Loss:     0.3738 Training Accuracy: 0.986005 Validation Accuracy: 0.941270\n",
      "Epoch 39 Loss:     0.4000 Training Accuracy: 0.987471 Validation Accuracy: 0.953968\n",
      "Epoch 40 Loss:     0.3550 Training Accuracy: 0.988074 Validation Accuracy: 0.943537\n",
      "Epoch 41 Loss:     0.3285 Training Accuracy: 0.985229 Validation Accuracy: 0.943084\n",
      "Epoch 42 Loss:     0.3490 Training Accuracy: 0.986149 Validation Accuracy: 0.943084\n",
      "Epoch 43 Loss:     0.3285 Training Accuracy: 0.988132 Validation Accuracy: 0.951701\n",
      "Epoch 44 Loss:     0.3978 Training Accuracy: 0.988247 Validation Accuracy: 0.945805\n",
      "Epoch 45 Loss:     0.3367 Training Accuracy: 0.987241 Validation Accuracy: 0.948980\n",
      "Epoch 46 Loss:     0.3196 Training Accuracy: 0.988477 Validation Accuracy: 0.953515\n",
      "Epoch 47 Loss:     0.3236 Training Accuracy: 0.986465 Validation Accuracy: 0.950113\n",
      "Epoch 48 Loss:     0.3506 Training Accuracy: 0.989827 Validation Accuracy: 0.955556\n",
      "Epoch 49 Loss:     0.3359 Training Accuracy: 0.987816 Validation Accuracy: 0.950340\n",
      "Epoch 50 Loss:     0.3660 Training Accuracy: 0.988965 Validation Accuracy: 0.952381\n",
      "Epoch 51 Loss:     0.4168 Training Accuracy: 0.989396 Validation Accuracy: 0.948980\n",
      "Epoch 52 Loss:     0.3100 Training Accuracy: 0.989827 Validation Accuracy: 0.955556\n",
      "Epoch 53 Loss:     0.3975 Training Accuracy: 0.989856 Validation Accuracy: 0.948526\n",
      "Epoch 54 Loss:     0.3226 Training Accuracy: 0.989942 Validation Accuracy: 0.953968\n",
      "Epoch 55 Loss:     0.3219 Training Accuracy: 0.990718 Validation Accuracy: 0.951701\n",
      "Epoch 56 Loss:     0.3616 Training Accuracy: 0.990718 Validation Accuracy: 0.953741\n",
      "Epoch 57 Loss:     0.3179 Training Accuracy: 0.991034 Validation Accuracy: 0.953515\n",
      "Epoch 58 Loss:     0.3244 Training Accuracy: 0.988046 Validation Accuracy: 0.950567\n",
      "Epoch 59 Loss:     0.3110 Training Accuracy: 0.989856 Validation Accuracy: 0.950567\n",
      "Epoch 60 Loss:     0.3033 Training Accuracy: 0.989310 Validation Accuracy: 0.956916\n",
      "Epoch 61 Loss:     0.3152 Training Accuracy: 0.989971 Validation Accuracy: 0.955329\n",
      "Epoch 62 Loss:     0.3306 Training Accuracy: 0.992040 Validation Accuracy: 0.955329\n",
      "Epoch 63 Loss:     0.3028 Training Accuracy: 0.989425 Validation Accuracy: 0.948073\n",
      "Epoch 64 Loss:     0.3030 Training Accuracy: 0.990776 Validation Accuracy: 0.954875\n",
      "Epoch 65 Loss:     0.3116 Training Accuracy: 0.990603 Validation Accuracy: 0.952608\n",
      "Epoch 66 Loss:     0.3400 Training Accuracy: 0.990891 Validation Accuracy: 0.953061\n",
      "Epoch 67 Loss:     0.3384 Training Accuracy: 0.992672 Validation Accuracy: 0.956689\n",
      "Epoch 68 Loss:     0.3488 Training Accuracy: 0.992040 Validation Accuracy: 0.946258\n",
      "Epoch 69 Loss:     0.3005 Training Accuracy: 0.990258 Validation Accuracy: 0.958730\n",
      "Epoch 70 Loss:     0.3132 Training Accuracy: 0.991235 Validation Accuracy: 0.953968\n",
      "Model saved\n",
      "Training Accuracy =  0.9912354\n",
      "Validation Accuracy =  0.9539682\n",
      "Loss =  0.3132282\n"
     ]
    }
   ],
   "source": [
    "with tf.Session() as sess:\n",
    "    sess.run(tf.global_variables_initializer())\n",
    "    num_examples = len(X_train)\n",
    "    \n",
    "    print(\"Training...\")\n",
    "    print()\n",
    "    for epoch in range(epochs):\n",
    "        Xtrain, ytrain = shuffle(train_features, train_labels)\n",
    "        batch_count = 0\n",
    "        for offset in range(0, num_examples, batch_size):\n",
    "            batch_count += 1\n",
    "            end = offset + batch_size\n",
    "            batch_x, batch_y = Xtrain[offset:end], ytrain[offset:end]\n",
    "            \n",
    "            sess.run(training_operation, feed_dict={\n",
    "                x: batch_x,\n",
    "                y: batch_y,\n",
    "                keep_prob: 0.5})\n",
    "\n",
    "            # Calculate batch loss and accuracy\n",
    "            loss = sess.run(cost, feed_dict={\n",
    "                x: batch_x,\n",
    "                y: batch_y,\n",
    "                keep_prob: 1.})\n",
    "            \n",
    "            train_acc = sess.run(accuracy_operation, feed_dict={\n",
    "                x: train_features,\n",
    "                y: train_labels,\n",
    "                keep_prob: 1.})\n",
    "            \n",
    "            valid_acc = sess.run(accuracy_operation, feed_dict={\n",
    "                x: valid_features,\n",
    "                y: valid_labels,\n",
    "                keep_prob: 1.})\n",
    "            #total_accuracy += (accuracy * len(batch_x))\n",
    "\n",
    "        print('Epoch {:>2} Loss: {:>10.4f} Training Accuracy: {:.6f} Validation Accuracy: {:.6f}'.format(\n",
    "            epoch + 1,\n",
    "            loss,\n",
    "            train_acc,\n",
    "            valid_acc))\n",
    "            \n",
    "        \n",
    "    saver.save(sess, './lenet')\n",
    "    print(\"Model saved\")\n",
    "    print(\"Training Accuracy = \", train_acc)\n",
    "    print(\"Validation Accuracy = \", valid_acc)\n",
    "    print(\"Loss = \", loss)"
   ]
  },
  {
   "cell_type": "code",
   "execution_count": 26,
   "metadata": {},
   "outputs": [
    {
     "name": "stdout",
     "output_type": "stream",
     "text": [
      "Training Stats:\n",
      "Training Accuracy =  0.9912354\n",
      "Validation Accuracy =  0.9539682\n",
      "Loss =  0.3132282\n"
     ]
    }
   ],
   "source": [
    "print(\"Training Stats:\")\n",
    "print(\"Training Accuracy = \", train_acc)\n",
    "print(\"Validation Accuracy = \", valid_acc)\n",
    "print(\"Loss = \", loss)"
   ]
  },
  {
   "cell_type": "code",
   "execution_count": 27,
   "metadata": {},
   "outputs": [
    {
     "name": "stdout",
     "output_type": "stream",
     "text": [
      "INFO:tensorflow:Restoring parameters from .\\lenet\n",
      "Testing Accuracy: 0.9275534152984619\n"
     ]
    }
   ],
   "source": [
    "# Calculate Test Accuracy\n",
    "with tf.Session() as sess:\n",
    "    saver.restore(sess, tf.train.latest_checkpoint('.'))\n",
    "    test_acc = sess.run(accuracy_operation, feed_dict={\n",
    "        x: test_features,\n",
    "        y: test_labels,\n",
    "        keep_prob: 1.})\n",
    "    print('Testing Accuracy: {}'.format(test_acc))"
   ]
  },
  {
   "cell_type": "markdown",
   "metadata": {},
   "source": [
    "---\n",
    "\n",
    "## Step 3: Test a Model on New Images\n",
    "\n",
    "To give yourself more insight into how your model is working, download at least five pictures of German traffic signs from the web and use your model to predict the traffic sign type.\n",
    "\n",
    "You may find `signnames.csv` useful as it contains mappings from the class id (integer) to the actual sign name."
   ]
  },
  {
   "cell_type": "markdown",
   "metadata": {},
   "source": [
    "### Load and Output the Images"
   ]
  },
  {
   "cell_type": "markdown",
   "metadata": {},
   "source": [
    "Load new Images"
   ]
  },
  {
   "cell_type": "code",
   "execution_count": 28,
   "metadata": {
    "collapsed": true
   },
   "outputs": [],
   "source": [
    "### Load the images and plot them here.\n",
    "import os, os.path\n",
    "from PIL import Image\n",
    "\n",
    "imgs = []\n",
    "path = './test-data/'\n",
    "valid_images = [\".jpg\",\".png\"]\n",
    "for filename in os.listdir(path):\n",
    "    ext = os.path.splitext(filename)[1]\n",
    "    if ext.lower() not in valid_images:\n",
    "        continue\n",
    "    imgs.append(np.asarray(Image.open(os.path.join(path,filename)).resize((32,32))))"
   ]
  },
  {
   "cell_type": "code",
   "execution_count": 29,
   "metadata": {
    "scrolled": true
   },
   "outputs": [
    {
     "data": {
      "text/plain": [
       "((32, 32, 3), (32, 32, 3), (32, 32, 3), (32, 32, 3), (32, 32, 3))"
      ]
     },
     "execution_count": 29,
     "metadata": {},
     "output_type": "execute_result"
    }
   ],
   "source": [
    "imgs[0].shape,imgs[1].shape,imgs[2].shape,imgs[3].shape,imgs[4].shape"
   ]
  },
  {
   "cell_type": "code",
   "execution_count": 30,
   "metadata": {
    "collapsed": true
   },
   "outputs": [],
   "source": [
    "import csv\n",
    "with open('signnames.csv', mode='r') as infile:\n",
    "    reader = csv.reader(infile)\n",
    "    sign_labels = {}\n",
    "    for row in reader:\n",
    "        sign_index, sign_name = row\n",
    "        sign_labels[sign_index] = sign_name"
   ]
  },
  {
   "cell_type": "code",
   "execution_count": 31,
   "metadata": {},
   "outputs": [
    {
     "data": {
      "text/plain": [
       "['No entry', 'Road work', 'Speed limit (30km/h)', 'Stop', 'Yield']"
      ]
     },
     "execution_count": 31,
     "metadata": {},
     "output_type": "execute_result"
    }
   ],
   "source": [
    "imgs_labels = [17, 25, 1, 14, 13] \n",
    "imgs_labels = [sign_labels[str(label)] for label in imgs_labels]\n",
    "imgs_labels"
   ]
  },
  {
   "cell_type": "code",
   "execution_count": 32,
   "metadata": {},
   "outputs": [
    {
     "data": {
      "image/png": "[encoded data removed]",
      "text/plain": [
       "<matplotlib.figure.Figure at 0x27698531da0>"
      ]
     },
     "metadata": {},
     "output_type": "display_data"
    }
   ],
   "source": [
    "# Display the images\n",
    "plt.rcParams[\"figure.figsize\"] = [15, 5]\n",
    "\n",
    "for i in range(len(imgs)):\n",
    "    plt.subplot(1, len(imgs), i+1)\n",
    "    plt.imshow(imgs[i])\n",
    "    plt.title(imgs_labels[i])\n",
    "\n",
    "plt.tight_layout()\n",
    "plt.show()"
   ]
  },
  {
   "cell_type": "markdown",
   "metadata": {},
   "source": [
    "Reshape and preprocess images"
   ]
  },
  {
   "cell_type": "code",
   "execution_count": 33,
   "metadata": {},
   "outputs": [],
   "source": [
    "#reshape\n",
    "#imgs_pre = rgb2gray(np.array(imgs))\n",
    "imgs_pre = normalize_grayscale(imgs)"
   ]
  },
  {
   "cell_type": "code",
   "execution_count": 34,
   "metadata": {},
   "outputs": [
    {
     "data": {
      "image/png": "[encoded data removed]",
      "text/plain": [
       "<matplotlib.figure.Figure at 0x27698531160>"
      ]
     },
     "metadata": {},
     "output_type": "display_data"
    }
   ],
   "source": [
    "# Display the images\n",
    "plt.rcParams[\"figure.figsize\"] = [15, 5]\n",
    "\n",
    "for i in range(len(imgs_pre)):\n",
    "    plt.subplot(1, len(imgs_pre), i+1)\n",
    "    plt.imshow(imgs_pre[i].reshape(32,32), cmap=\"gray\")\n",
    "    plt.title('Image: %d' % i)\n",
    "\n",
    "plt.tight_layout()\n",
    "plt.show()"
   ]
  },
  {
   "cell_type": "markdown",
   "metadata": {},
   "source": [
    "### Predict the Sign Type for Each Image"
   ]
  },
  {
   "cell_type": "code",
   "execution_count": 35,
   "metadata": {},
   "outputs": [
    {
     "name": "stdout",
     "output_type": "stream",
     "text": [
      "INFO:tensorflow:Restoring parameters from .\\lenet\n"
     ]
    }
   ],
   "source": [
    "### Run the predictions here and use the model to output the prediction for each image.\n",
    "### Make sure to pre-process the images with the same pre-processing pipeline used earlier.\n",
    "### Feel free to use as many code cells as needed.\n",
    "\n",
    "with tf.Session() as sess:\n",
    "    saver.restore(sess, tf.train.latest_checkpoint('.'))\n",
    "\n",
    "    result_logits = sess.run(logits, feed_dict={x: np.array(imgs_pre), keep_prob : 1.0})"
   ]
  },
  {
   "cell_type": "markdown",
   "metadata": {},
   "source": [
    "### Output Top 5 Softmax Probabilities For Each Image Found on the Web"
   ]
  },
  {
   "cell_type": "markdown",
   "metadata": {},
   "source": [
    "For each of the new images, print out the model's softmax probabilities to show the **certainty** of the model's predictions (limit the output to the top 5 probabilities for each image). [`tf.nn.top_k`](https://www.tensorflow.org/versions/r0.12/api_docs/python/nn.html#top_k) could prove helpful here. \n",
    "\n",
    "The example below demonstrates how tf.nn.top_k can be used to find the top k predictions for each image.\n",
    "\n",
    "`tf.nn.top_k` will return the values and indices (class ids) of the top k predictions. So if k=3, for each sign, it'll return the 3 largest probabilities (out of a possible 43) and the correspoding class ids.\n",
    "\n",
    "Take this numpy array as an example. The values in the array represent predictions. The array contains softmax probabilities for five candidate images with six possible classes. `tf.nn.top_k` is used to choose the three classes with the highest probability:\n",
    "\n",
    "```\n",
    "# (5, 6) array\n",
    "a = np.array([[ 0.24879643,  0.07032244,  0.12641572,  0.34763842,  0.07893497,\n",
    "         0.12789202],\n",
    "       [ 0.28086119,  0.27569815,  0.08594638,  0.0178669 ,  0.18063401,\n",
    "         0.15899337],\n",
    "       [ 0.26076848,  0.23664738,  0.08020603,  0.07001922,  0.1134371 ,\n",
    "         0.23892179],\n",
    "       [ 0.11943333,  0.29198961,  0.02605103,  0.26234032,  0.1351348 ,\n",
    "         0.16505091],\n",
    "       [ 0.09561176,  0.34396535,  0.0643941 ,  0.16240774,  0.24206137,\n",
    "         0.09155967]])\n",
    "```\n",
    "\n",
    "Running it through `sess.run(tf.nn.top_k(tf.constant(a), k=3))` produces:\n",
    "\n",
    "```\n",
    "TopKV2(values=array([[ 0.34763842,  0.24879643,  0.12789202],\n",
    "       [ 0.28086119,  0.27569815,  0.18063401],\n",
    "       [ 0.26076848,  0.23892179,  0.23664738],\n",
    "       [ 0.29198961,  0.26234032,  0.16505091],\n",
    "       [ 0.34396535,  0.24206137,  0.16240774]]), indices=array([[3, 0, 5],\n",
    "       [0, 1, 4],\n",
    "       [0, 5, 1],\n",
    "       [1, 3, 5],\n",
    "       [1, 4, 3]], dtype=int32))\n",
    "```\n",
    "\n",
    "Looking just at the first row we get `[ 0.34763842,  0.24879643,  0.12789202]`, you can confirm these are the 3 largest probabilities in `a`. You'll also notice `[3, 0, 5]` are the corresponding indices."
   ]
  },
  {
   "cell_type": "code",
   "execution_count": 36,
   "metadata": {},
   "outputs": [
    {
     "data": {
      "text/plain": [
       "(5, 43)"
      ]
     },
     "execution_count": 36,
     "metadata": {},
     "output_type": "execute_result"
    }
   ],
   "source": [
    "result_logits.shape"
   ]
  },
  {
   "cell_type": "code",
   "execution_count": 37,
   "metadata": {},
   "outputs": [
    {
     "name": "stdout",
     "output_type": "stream",
     "text": [
      "Image 0 probabilities: [0.5199929  0.31127962 0.05611461 0.04535617 0.02355357] \n",
      " and predicted classes: [17 22 26  8 29]\n",
      "Predicted labels: [ No entry , Bumpy road , Traffic signals , Speed limit (120km/h) , Bicycles crossing ]\n",
      "Image 1 probabilities: [9.8053104e-01 6.8858103e-03 4.6196971e-03 1.8558323e-03 9.6209458e-04] \n",
      " and predicted classes: [25 18 21 33  1]\n",
      "Predicted labels: [ Road work , General caution , Double curve , Turn right ahead , Speed limit (30km/h) ]\n",
      "Image 2 probabilities: [0.8665896  0.08983267 0.024795   0.0066307  0.00505325] \n",
      " and predicted classes: [ 1 31  2  6 21]\n",
      "Predicted labels: [ Speed limit (30km/h) , Wild animals crossing , Speed limit (50km/h) , End of speed limit (80km/h) , Double curve ]\n",
      "Image 3 probabilities: [0.8514941  0.03526456 0.02431984 0.0147898  0.0140768 ] \n",
      " and predicted classes: [10  9 14  7 42]\n",
      "Predicted labels: [ No passing for vehicles over 3.5 metric tons , No passing , Stop , Speed limit (100km/h) , End of no passing by vehicles over 3.5 metric tons ]\n",
      "Image 4 probabilities: [9.8331374e-01 1.5940100e-02 6.6872913e-04 2.0474137e-05 1.7026998e-05] \n",
      " and predicted classes: [13 14 15 39  9]\n",
      "Predicted labels: [ Yield , Stop , No vehicles , Keep left , No passing ]\n"
     ]
    }
   ],
   "source": [
    "### Print out the top five softmax probabilities for the predictions on the German traffic sign images found on the web. \n",
    "### Feel free to use as many code cells as needed.\n",
    "# result_softmax = (5, 43)\n",
    "# result_top_k = (2, 5, 5)\n",
    "\n",
    "with tf.Session() as sess:\n",
    "    result_softmax = sess.run(tf.nn.softmax(result_logits))\n",
    "    result_top_k = sess.run(tf.nn.top_k(result_softmax , k= 5, sorted=True))\n",
    "\n",
    "result_final = []\n",
    "for i in range(len(imgs)):\n",
    "    print('Image', i, 'probabilities:', result_top_k[0][i], '\\n and predicted classes:', result_top_k[1][i])\n",
    "    result_labels = [sign_labels[str(pred)] for pred in result_top_k[1][i]]\n",
    "    print('Predicted labels: [', result_labels[0], \",\", result_labels[1],\",\", result_labels[2],\",\", result_labels[3],\",\", result_labels[4],\"]\")\n",
    "    result_final.append(result_top_k[1][i][0])\n",
    "    \n",
    "#result_final = [Sign_labelresult_final]"
   ]
  },
  {
   "cell_type": "markdown",
   "metadata": {},
   "source": [
    "### Analyze Performance"
   ]
  },
  {
   "cell_type": "code",
   "execution_count": 38,
   "metadata": {},
   "outputs": [
    {
     "name": "stdout",
     "output_type": "stream",
     "text": [
      "Expected Result:  ['No entry', 'Road work', 'Speed limit (30km/h)', 'Stop', 'Yield']\n",
      "Predicted Result:  ['No entry', 'Road work', 'Speed limit (30km/h)', 'No passing for vehicles over 3.5 metric tons', 'Yield']\n",
      "Accuracy of prediction = % 80.0\n"
     ]
    }
   ],
   "source": [
    "### Calculate the accuracy for these 5 new images. \n",
    "### For example, if the model predicted 1 out of 5 signs correctly, it's 20% accurate on these new images.\n",
    "print('Expected Result: ', imgs_labels)\n",
    "result_final_labels = [sign_labels[str(result)] for result in result_final]\n",
    "print('Predicted Result: ', result_final_labels)\n",
    "count = 0\n",
    "for i in range(len(result_final)):\n",
    "    if result_final_labels[i] == imgs_labels[i]:\n",
    "        count = count + 1\n",
    "print(\"Accuracy of prediction = %\", (count/len(imgs_labels))*100)        \n"
   ]
  },
  {
   "cell_type": "code",
   "execution_count": 39,
   "metadata": {
    "collapsed": true
   },
   "outputs": [],
   "source": [
    "### Visualize your network's feature maps here.\n",
    "### Feel free to use as many code cells as needed.\n",
    "\n",
    "# image_input: the test image being fed into the network to produce the feature maps\n",
    "# tf_activation: should be a tf variable name used during your training procedure that represents the calculated state of a specific weight layer\n",
    "# activation_min/max: can be used to view the activation contrast in more detail, by default matplot sets min and max to the actual min and max values of the output\n",
    "# plt_num: used to plot out multiple different weight feature map sets on the same block, just extend the plt number for each new feature map entry\n",
    "\n",
    "def outputFeatureMap(image_input, tf_activation, activation_min=-1, activation_max=-1 ,plt_num=1):\n",
    "    # Here make sure to preprocess your image_input in a way your network expects\n",
    "    # with size, normalization, ect if needed\n",
    "    # image_input =\n",
    "    # Note: x should be the same name as your network's tensorflow data placeholder variable\n",
    "    # If you get an error tf_activation is not defined it may be having trouble accessing the variable from inside a function\n",
    "    activation = tf_activation.eval(session=sess,feed_dict={x : image_input})\n",
    "    featuremaps = activation.shape[3]\n",
    "    plt.figure(plt_num, figsize=(15,15))\n",
    "    for featuremap in range(featuremaps):\n",
    "        plt.subplot(6,8, featuremap+1) # sets the number of feature maps to show on each row and column\n",
    "        plt.title('FeatureMap ' + str(featuremap)) # displays the feature map number\n",
    "        if activation_min != -1 & activation_max != -1:\n",
    "            plt.imshow(activation[0,:,:, featuremap], interpolation=\"nearest\", vmin =activation_min, vmax=activation_max, cmap=\"gray\")\n",
    "        elif activation_max != -1:\n",
    "            plt.imshow(activation[0,:,:, featuremap], interpolation=\"nearest\", vmax=activation_max, cmap=\"gray\")\n",
    "        elif activation_min !=-1:\n",
    "            plt.imshow(activation[0,:,:, featuremap], interpolation=\"nearest\", vmin=activation_min, cmap=\"gray\")\n",
    "        else:\n",
    "            plt.imshow(activation[0,:,:, featuremap], interpolation=\"nearest\", cmap=\"gray\")"
   ]
  }
 ],
 "metadata": {
  "anaconda-cloud": {},
  "kernelspec": {
   "display_name": "Python 3",
   "language": "python",
   "name": "python3"
  },
  "language_info": {
   "codemirror_mode": {
    "name": "ipython",
    "version": 3
   },
   "file_extension": ".py",
   "mimetype": "text/x-python",
   "name": "python",
   "nbconvert_exporter": "python",
   "pygments_lexer": "ipython3",
   "version": "3.6.2"
  }
 },
 "nbformat": 4,
 "nbformat_minor": 1
}
