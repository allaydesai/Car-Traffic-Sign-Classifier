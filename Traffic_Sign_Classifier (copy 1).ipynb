{
 "cells": [
  {
   "cell_type": "markdown",
   "metadata": {},
   "source": [
    "# Self-Driving Car Engineer Nanodegree\n",
    "\n",
    "## Deep Learning\n",
    "\n",
    "## Project: Build a Traffic Sign Recognition Classifier\n",
    "\n",
    "In this notebook, a template is provided for you to implement your functionality in stages, which is required to successfully complete this project. If additional code is required that cannot be included in the notebook, be sure that the Python code is successfully imported and included in your submission if necessary. \n",
    "\n",
    "> **Note**: Once you have completed all of the code implementations, you need to finalize your work by exporting the iPython Notebook as an HTML document. Before exporting the notebook to html, all of the code cells need to have been run so that reviewers can see the final implementation and output. You can then export the notebook by using the menu above and navigating to  \\n\",\n",
    "    \"**File -> Download as -> HTML (.html)**. Include the finished document along with this notebook as your submission. \n",
    "\n",
    "In addition to implementing code, there is a writeup to complete. The writeup should be completed in a separate file, which can be either a markdown file or a pdf document. There is a [write up template](https://github.com/udacity/CarND-Traffic-Sign-Classifier-Project/blob/master/writeup_template.md) that can be used to guide the writing process. Completing the code template and writeup template will cover all of the [rubric points](https://review.udacity.com/#!/rubrics/481/view) for this project.\n",
    "\n",
    "The [rubric](https://review.udacity.com/#!/rubrics/481/view) contains \"Stand Out Suggestions\" for enhancing the project beyond the minimum requirements. The stand out suggestions are optional. If you decide to pursue the \"stand out suggestions\", you can include the code in this Ipython notebook and also discuss the results in the writeup file.\n",
    "\n",
    "\n",
    ">**Note:** Code and Markdown cells can be executed using the **Shift + Enter** keyboard shortcut. In addition, Markdown cells can be edited by typically double-clicking the cell to enter edit mode."
   ]
  },
  {
   "cell_type": "markdown",
   "metadata": {},
   "source": [
    "---\n",
    "## Step 0: Load The Data"
   ]
  },
  {
   "cell_type": "code",
   "execution_count": 1,
   "metadata": {
    "collapsed": true
   },
   "outputs": [],
   "source": [
    "# Load pickled data\n",
    "import pickle\n",
    "from sklearn.utils import shuffle\n",
    "#import tensorflow as tf\n",
    "\n",
    "# TODO: Fill this in based on where you saved the training and testing data\n",
    "\n",
    "training_file = 'traffic-signs-data/train.p'\n",
    "validation_file='traffic-signs-data/valid.p'\n",
    "testing_file = 'traffic-signs-data/test.p'\n",
    "\n",
    "with open(training_file, mode='rb') as f:\n",
    "    train = pickle.load(f)\n",
    "with open(validation_file, mode='rb') as f:\n",
    "    valid = pickle.load(f)\n",
    "with open(testing_file, mode='rb') as f:\n",
    "    test = pickle.load(f)\n",
    "    \n",
    "X_train, y_train = train['features'], train['labels']\n",
    "X_valid, y_valid = valid['features'], valid['labels']\n",
    "X_test, y_test = test['features'], test['labels']"
   ]
  },
  {
   "cell_type": "code",
   "execution_count": 2,
   "metadata": {},
   "outputs": [],
   "source": [
    "import tensorflow as tf\n",
    "\n",
    "config = tf.ConfigProto()\n",
    "config.gpu_options.allow_growth = True\n",
    "session = tf.Session(config=config)"
   ]
  },
  {
   "cell_type": "markdown",
   "metadata": {},
   "source": [
    "---\n",
    "\n",
    "## Step 1: Dataset Summary & Exploration\n",
    "\n",
    "The pickled data is a dictionary with 4 key/value pairs:\n",
    "\n",
    "- `'features'` is a 4D array containing raw pixel data of the traffic sign images, (num examples, width, height, channels).\n",
    "- `'labels'` is a 1D array containing the label/class id of the traffic sign. The file `signnames.csv` contains id -> name mappings for each id.\n",
    "- `'sizes'` is a list containing tuples, (width, height) representing the original width and height the image.\n",
    "- `'coords'` is a list containing tuples, (x1, y1, x2, y2) representing coordinates of a bounding box around the sign in the image. **THESE COORDINATES ASSUME THE ORIGINAL IMAGE. THE PICKLED DATA CONTAINS RESIZED VERSIONS (32 by 32) OF THESE IMAGES**\n",
    "\n",
    "Complete the basic data summary below. Use python, numpy and/or pandas methods to calculate the data summary rather than hard coding the results. For example, the [pandas shape method](http://pandas.pydata.org/pandas-docs/stable/generated/pandas.DataFrame.shape.html) might be useful for calculating some of the summary results. "
   ]
  },
  {
   "cell_type": "markdown",
   "metadata": {},
   "source": [
    "### Provide a Basic Summary of the Data Set Using Python, Numpy and/or Pandas"
   ]
  },
  {
   "cell_type": "code",
   "execution_count": 3,
   "metadata": {},
   "outputs": [
    {
     "name": "stdout",
     "output_type": "stream",
     "text": [
      "Number of training examples = 34799\n",
      "Number of validation examples = 4410\n",
      "Number of testing examples = 12630\n",
      "Image data shape = (32, 32, 3)\n",
      "Number of classes = [ 0  1  2  3  4  5  6  7  8  9 10 11 12 13 14 15 16 17 18 19 20 21 22 23 24\n",
      " 25 26 27 28 29 30 31 32 33 34 35 36 37 38 39 40 41 42]\n"
     ]
    }
   ],
   "source": [
    "### Replace each question mark with the appropriate value. \n",
    "### Use python, pandas or numpy methods rather than hard coding the results\n",
    "import numpy as np\n",
    "# TODO: Number of training examples\n",
    "n_train = X_train.shape[0]\n",
    "\n",
    "# TODO: Number of validation examples\n",
    "n_validation = X_valid.shape[0]\n",
    "\n",
    "# TODO: Number of testing examples.\n",
    "n_test = X_test.shape[0]\n",
    "\n",
    "# TODO: What's the shape of an traffic sign image?\n",
    "image_shape = X_train.shape[1:]\n",
    "\n",
    "# TODO: How many unique classes/labels there are in the dataset.\n",
    "n_classes, counts = np.unique(y_train, return_counts=True)\n",
    "\n",
    "print(\"Number of training examples =\", n_train)\n",
    "print(\"Number of validation examples =\", n_validation)\n",
    "print(\"Number of testing examples =\", n_test)\n",
    "print(\"Image data shape =\", image_shape)\n",
    "print(\"Number of classes =\", n_classes)"
   ]
  },
  {
   "cell_type": "markdown",
   "metadata": {},
   "source": [
    "### Include an exploratory visualization of the dataset"
   ]
  },
  {
   "cell_type": "markdown",
   "metadata": {},
   "source": [
    "Visualize the German Traffic Signs Dataset using the pickled file(s). This is open ended, suggestions include: plotting traffic sign images, plotting the count of each sign, etc. \n",
    "\n",
    "The [Matplotlib](http://matplotlib.org/) [examples](http://matplotlib.org/examples/index.html) and [gallery](http://matplotlib.org/gallery.html) pages are a great resource for doing visualizations in Python.\n",
    "\n",
    "**NOTE:** It's recommended you start with something simple first. If you wish to do more, come back to it after you've completed the rest of the sections. It can be interesting to look at the distribution of classes in the training, validation and test set. Is the distribution the same? Are there more examples of some classes than others?"
   ]
  },
  {
   "cell_type": "code",
   "execution_count": 4,
   "metadata": {
    "collapsed": true
   },
   "outputs": [],
   "source": [
    "import matplotlib.pyplot as plt\n",
    "# Visualizations will be shown in the notebook.\n",
    "%matplotlib inline"
   ]
  },
  {
   "cell_type": "markdown",
   "metadata": {},
   "source": [
    "### Visualizing Training Data"
   ]
  },
  {
   "cell_type": "code",
   "execution_count": 5,
   "metadata": {},
   "outputs": [
    {
     "name": "stdout",
     "output_type": "stream",
     "text": [
      "Training Index:  392\n",
      "Training Label:  31\n",
      "Training Image: \n"
     ]
    },
    {
     "data": {
      "image/png": "[encoded data removed]",
      "text/plain": [
       "<matplotlib.figure.Figure at 0x7fd04406b908>"
      ]
     },
     "metadata": {},
     "output_type": "display_data"
    }
   ],
   "source": [
    "import random\n",
    "\n",
    "index = random.randint(0, len(X_train))\n",
    "image = X_train[index].squeeze()\n",
    "\n",
    "plt.figure(figsize=(3,3))\n",
    "plt.imshow(image.reshape((32,32,3)))\n",
    "print('Training Index: ', index)\n",
    "print('Training Label: ',y_train[index])\n",
    "print('Training Image: ')"
   ]
  },
  {
   "cell_type": "markdown",
   "metadata": {},
   "source": [
    "## Training Data Distribution"
   ]
  },
  {
   "cell_type": "code",
   "execution_count": 6,
   "metadata": {},
   "outputs": [
    {
     "data": {
      "image/png": "[encoded data removed]",
      "text/plain": [
       "<matplotlib.figure.Figure at 0x7fd044083be0>"
      ]
     },
     "metadata": {},
     "output_type": "display_data"
    }
   ],
   "source": [
    "# Data distrbution\n",
    "plt.rcParams[\"figure.figsize\"] = [15, 5]\n",
    "axes = plt.gca()\n",
    "axes.set_xlim([-1,43])\n",
    "\n",
    "plt.bar(n_classes, counts, tick_label=n_classes, width=0.8, align='center')\n",
    "plt.title('Distribution of Training Data across Classes')\n",
    "plt.show()"
   ]
  },
  {
   "cell_type": "markdown",
   "metadata": {},
   "source": [
    "## Testing Data Distribution"
   ]
  },
  {
   "cell_type": "code",
   "execution_count": 7,
   "metadata": {},
   "outputs": [
    {
     "data": {
      "image/png": "[encoded data removed]",
      "text/plain": [
       "<matplotlib.figure.Figure at 0x7fd024153160>"
      ]
     },
     "metadata": {},
     "output_type": "display_data"
    }
   ],
   "source": [
    "n_classes, counts = np.unique(y_test, return_counts=True)\n",
    "\n",
    "plt.rcParams[\"figure.figsize\"] = [15, 5]\n",
    "axes = plt.gca()\n",
    "axes.set_xlim([-1,43])\n",
    "\n",
    "plt.bar(n_classes, counts, tick_label=n_classes, width=0.8, align='center')\n",
    "plt.title('Distribution of Testing Data across Classes')\n",
    "plt.show()"
   ]
  },
  {
   "cell_type": "markdown",
   "metadata": {},
   "source": [
    "## Pre-process the Data Set (normalization, grayscale, etc.)"
   ]
  },
  {
   "cell_type": "markdown",
   "metadata": {},
   "source": [
    "Minimally, the image data should be normalized so that the data has mean zero and equal variance. For image data, `(pixel - 128)/ 128` is a quick way to approximately normalize the data and can be used in this project. \n",
    "\n",
    "Other pre-processing steps are optional. You can try different techniques to see if it improves performance. \n",
    "\n",
    "Use the code cell (or multiple code cells, if necessary) to implement the first step of your project."
   ]
  },
  {
   "cell_type": "code",
   "execution_count": 8,
   "metadata": {
    "collapsed": true
   },
   "outputs": [],
   "source": [
    "is_features_normal = False\n",
    "is_labels_encod = False"
   ]
  },
  {
   "cell_type": "markdown",
   "metadata": {},
   "source": [
    "### Convert to Grayscale Image"
   ]
  },
  {
   "cell_type": "code",
   "execution_count": 9,
   "metadata": {},
   "outputs": [
    {
     "data": {
      "text/plain": [
       "(34799, 32, 32)"
      ]
     },
     "execution_count": 9,
     "metadata": {},
     "output_type": "execute_result"
    }
   ],
   "source": [
    "def rgb2gray(rgb):\n",
    "  return np.dot(rgb[...,:3], [0.299, 0.587, 0.114])\n",
    "train_features = np.array([rgb2gray(feature) for feature in X_train])\n",
    "test_features = np.array([rgb2gray(feature) for feature in X_test])\n",
    "valid_features = np.array([rgb2gray(feature) for feature in X_valid])\n",
    "train_features.shape"
   ]
  },
  {
   "cell_type": "code",
   "execution_count": 10,
   "metadata": {},
   "outputs": [
    {
     "data": {
      "image/png": "[encoded data removed]",
      "text/plain": [
       "<matplotlib.figure.Figure at 0x7fd02433b908>"
      ]
     },
     "metadata": {},
     "output_type": "display_data"
    }
   ],
   "source": [
    "plt.subplot(1,2,1)\n",
    "plt.imshow(X_train[50].reshape((32,32,3)))\n",
    "plt.subplot(1,2,2)\n",
    "plt.imshow(train_features[50], cmap= plt.get_cmap('gray'))\n",
    "plt.tight_layout()\n",
    "plt.show()"
   ]
  },
  {
   "cell_type": "markdown",
   "metadata": {},
   "source": [
    "## Normalize Image"
   ]
  },
  {
   "cell_type": "code",
   "execution_count": 11,
   "metadata": {
    "collapsed": true
   },
   "outputs": [],
   "source": [
    "### Preprocess the data here. It is required to normalize the data. Other preprocessing steps could include \n",
    "\n",
    "def normalize_grayscale(image_data):\n",
    "    \"\"\"\n",
    "    Normalize the image data with Min-Max scaling to a range of [0.1, 0.9]\n",
    "    :param image_data: The image data to be normalized\n",
    "    :return: Normalized image data\n",
    "    \"\"\"\n",
    "    Xmin = np.min(image_data) #0\n",
    "    Xmax = np.max(image_data) #255\n",
    "    a = 0.1\n",
    "    b = 0.9\n",
    "    #print(\"Xmin:\", Xmin, \"Xmax:\", Xmax)\n",
    "    return a + (((image_data-Xmin)*(b-a))/(Xmax- Xmin))\n",
    "\n",
    "if not is_features_normal:\n",
    "    train_features = normalize_grayscale(train_features)\n",
    "    valid_features = normalize_grayscale(valid_features)\n",
    "    test_features = normalize_grayscale(test_features)\n",
    "    is_features_normal = True\n",
    "### converting to grayscale, etc.\n",
    "### Feel free to use as many code cells as needed."
   ]
  },
  {
   "cell_type": "code",
   "execution_count": 12,
   "metadata": {},
   "outputs": [
    {
     "data": {
      "text/plain": [
       "<matplotlib.image.AxesImage at 0x7fd00557ecc0>"
      ]
     },
     "execution_count": 12,
     "metadata": {},
     "output_type": "execute_result"
    },
    {
     "data": {
      "image/png": "[encoded data removed]",
      "text/plain": [
       "<matplotlib.figure.Figure at 0x7fd005726c18>"
      ]
     },
     "metadata": {},
     "output_type": "display_data"
    }
   ],
   "source": [
    "plt.imshow(train_features[50], cmap= plt.get_cmap('gray'))"
   ]
  },
  {
   "cell_type": "markdown",
   "metadata": {},
   "source": [
    "### One Hot Encode Labels"
   ]
  },
  {
   "cell_type": "code",
   "execution_count": 13,
   "metadata": {
    "collapsed": true
   },
   "outputs": [],
   "source": [
    "from sklearn.preprocessing import LabelBinarizer\n",
    "if not is_labels_encod:\n",
    "    # Turn labels into numbers and apply One-Hot Encoding\n",
    "    encoder = LabelBinarizer()\n",
    "    encoder.fit(y_train)\n",
    "    train_labels = encoder.transform(y_train)\n",
    "    valid_labels = encoder.transform(y_valid)\n",
    "    test_labels = encoder.transform(y_test)\n",
    "    # Change to float32, so it can be multiplied against the features in TensorFlow, which are float32\n",
    "    train_labels = train_labels.astype(np.float32)\n",
    "    test_labels = test_labels.astype(np.float32)\n",
    "    is_labels_encod = True"
   ]
  },
  {
   "cell_type": "code",
   "execution_count": 14,
   "metadata": {},
   "outputs": [
    {
     "data": {
      "text/plain": [
       "(41, array([ 0.,  0.,  0.,  0.,  0.,  0.,  0.,  0.,  0.,  0.,  0.,  0.,  0.,\n",
       "         0.,  0.,  0.,  0.,  0.,  0.,  0.,  0.,  0.,  0.,  0.,  0.,  0.,\n",
       "         0.,  0.,  0.,  0.,  0.,  0.,  0.,  0.,  0.,  0.,  0.,  0.,  0.,\n",
       "         0.,  0.,  1.,  0.], dtype=float32))"
      ]
     },
     "execution_count": 14,
     "metadata": {},
     "output_type": "execute_result"
    }
   ],
   "source": [
    "y_train[50], train_labels[50]"
   ]
  },
  {
   "cell_type": "markdown",
   "metadata": {},
   "source": [
    "### Preprocessed Data"
   ]
  },
  {
   "cell_type": "code",
   "execution_count": 15,
   "metadata": {},
   "outputs": [
    {
     "name": "stdout",
     "output_type": "stream",
     "text": [
      "[ 0.  0.  0.  0.  0.  1.  0.  0.  0.  0.  0.  0.  0.  0.  0.  0.  0.  0.\n",
      "  0.  0.  0.  0.  0.  0.  0.  0.  0.  0.  0.  0.  0.  0.  0.  0.  0.  0.\n",
      "  0.  0.  0.  0.  0.  0.  0.]\n"
     ]
    },
    {
     "data": {
      "image/png": "[encoded data removed]",
      "text/plain": [
       "<matplotlib.figure.Figure at 0x7fd005595cc0>"
      ]
     },
     "metadata": {},
     "output_type": "display_data"
    }
   ],
   "source": [
    "index = random.randint(0, len(X_train))\n",
    "image = train_features[index].squeeze()\n",
    "\n",
    "plt.figure(figsize=(3,3))\n",
    "plt.imshow(image.reshape((32,32)),cmap='gray')\n",
    "print(train_labels[index])"
   ]
  },
  {
   "cell_type": "markdown",
   "metadata": {},
   "source": [
    "## MODEL PARAMETERS"
   ]
  },
  {
   "cell_type": "code",
   "execution_count": 16,
   "metadata": {
    "collapsed": true
   },
   "outputs": [],
   "source": [
    "x = tf.placeholder(tf.float32, (None, 32, 32))\n",
    "y = tf.placeholder(tf.int32, (None, 43))\n",
    "batch = tf.Variable(0)\n",
    "keep_prob = tf.placeholder(tf.float32)"
   ]
  },
  {
   "cell_type": "code",
   "execution_count": 17,
   "metadata": {
    "collapsed": true
   },
   "outputs": [],
   "source": [
    "# Parameters\n",
    "epochs = 50\n",
    "batch_size = 128\n",
    "\n",
    "# Number of samples to calculate validation and accuracy\n",
    "# Decrease this if you're running out of memory to calculate accuracy\n",
    "test_valid_size = 256"
   ]
  },
  {
   "cell_type": "markdown",
   "metadata": {},
   "source": [
    "### Define and initialize model parameters "
   ]
  },
  {
   "cell_type": "code",
   "execution_count": 18,
   "metadata": {
    "collapsed": true
   },
   "outputs": [],
   "source": [
    "### Define your architecture here.\n",
    "### Feel free to use as many code cells as needed.\n",
    "#import tensorflow as tf\n",
    "# Store layers weight & bias\n",
    "mean_wt = 0 \n",
    "stanDev = 0.1\n",
    "\n",
    "weights = {\n",
    "    'wc1': tf.Variable(tf.truncated_normal(shape=(5, 5, 1, 6), mean=mean_wt, stddev=stanDev)),\n",
    "    'wc2': tf.Variable(tf.truncated_normal(shape=(5, 5, 6, 16), mean=mean_wt, stddev=stanDev)),\n",
    "    'fc1': tf.Variable(tf.truncated_normal(shape=(400, 200), mean=mean_wt, stddev=stanDev)),\n",
    "    'fc2': tf.Variable(tf.truncated_normal(shape=(200, 100), mean=mean_wt, stddev=stanDev)),\n",
    "    'out': tf.Variable(tf.truncated_normal(shape=(100, len(n_classes)), mean=mean_wt, stddev=stanDev))\n",
    "}\n",
    "\n",
    "biases = {\n",
    "    'bc1': tf.Variable(tf.zeros(6)),\n",
    "    'bc2': tf.Variable(tf.zeros(16)),\n",
    "    'bf1': tf.Variable(tf.zeros(200)),\n",
    "    'bf2': tf.Variable(tf.zeros(100)),\n",
    "    'out': tf.Variable(tf.zeros(len(n_classes)))\n",
    "}\n",
    "\n",
    "strides ={\n",
    "    'conv1': [1,1,1,1],\n",
    "    'maxPool1':[1,2,2,1],\n",
    "    'conv2' : [1,1,1,1],\n",
    "    'maxPool2':[1,2,2,1]\n",
    "}\n",
    "\n",
    "filters ={\n",
    "    'maxPool1': [1,2,2,1],\n",
    "    'maxPool2': [1,2,2,1]\n",
    "}"
   ]
  },
  {
   "cell_type": "markdown",
   "metadata": {},
   "source": [
    "### Network Architecture"
   ]
  },
  {
   "cell_type": "code",
   "execution_count": 19,
   "metadata": {
    "collapsed": true
   },
   "outputs": [],
   "source": [
    "def LeNet(x, weights, biases, strides, filters):\n",
    "    x = tf.reshape(x,(-1,32,32,1))\n",
    "    ### Layer 1 ###\n",
    "    # convolution\n",
    "    conv_layer1 = tf.nn.conv2d(x, weights['wc1'], strides=strides['conv1'],padding='VALID') + biases['bc1']\n",
    "    #print(tf.shape(conv_layer1))\n",
    "    # activation\n",
    "    conv_layer1 = tf.nn.relu(conv_layer1)\n",
    "    # pooling\n",
    "    conv_layer1 = tf.nn.max_pool(conv_layer1, ksize=filters['maxPool1'],strides=strides['maxPool1'],padding='VALID')\n",
    "    ### Layer 2 ###\n",
    "    # convolution\n",
    "    conv_layer2 = tf.nn.conv2d(conv_layer1, weights['wc2'], strides=strides['conv2'], padding='VALID') + biases['bc2']\n",
    "    # activation\n",
    "    conv_layer2 = tf.nn.relu(conv_layer2)\n",
    "    # pooling\n",
    "    conv_layer2 = tf.nn.max_pool(conv_layer2, ksize=filters['maxPool2'],strides=strides['maxPool2'],padding='VALID')\n",
    "    ### Layer 3 ###\n",
    "    # flatten\n",
    "    flatten = tf.contrib.layers.flatten(conv_layer2)\n",
    "    ### Layer 4 ###\n",
    "    # fully connected\n",
    "    fc1 = tf.matmul(flatten, weights['fc1']) + biases['bf1']\n",
    "    # activation\n",
    "    fc1 = tf.nn.relu(fc1)\n",
    "    ### Layer 5 ###\n",
    "    # fully connected\n",
    "    fc2 = tf.matmul(fc1, weights['fc2']) + biases['bf2']\n",
    "    # activation\n",
    "    fc2 = tf.nn.relu(fc2)\n",
    "    ### Layer 6 ###\n",
    "     # fully connected\n",
    "    logits = tf.matmul(fc2, weights['out']) + biases['out']\n",
    "    \n",
    "    return logits, weights['fc1'], weights['fc2'], weights['out']"
   ]
  },
  {
   "cell_type": "markdown",
   "metadata": {},
   "source": [
    "### Training pipeline"
   ]
  },
  {
   "cell_type": "code",
   "execution_count": 20,
   "metadata": {},
   "outputs": [],
   "source": [
    "# Forward pass\n",
    "logits, fc1_w, fc2_w, fc3_w = LeNet(x, weights, biases, strides, filters)\n",
    "# Calculate loss\n",
    "cross_entropy = tf.nn.softmax_cross_entropy_with_logits(logits = logits, labels = y)\n",
    "loss_operation = tf.reduce_mean(cross_entropy)\n",
    "# Regularize\n",
    "beta = 0.01\n",
    "regularizer = tf.nn.l2_loss(fc1_w) + tf.nn.l2_loss(fc2_w) + tf.nn.l2_loss(fc3_w)\n",
    "cost = tf.reduce_mean(loss_operation + beta * regularizer)\n",
    "\n",
    "# Define loss and optimizer\n",
    "learning_rate = tf.train.exponential_decay(0.001, batch * batch_size, n_train*10, 0.5, staircase=True)\n",
    "optimizer = tf.train.AdamOptimizer(learning_rate = learning_rate)\n",
    "training_operation = optimizer.minimize(cost)\n"
   ]
  },
  {
   "cell_type": "markdown",
   "metadata": {},
   "source": [
    "### Model Evaluation"
   ]
  },
  {
   "cell_type": "code",
   "execution_count": 21,
   "metadata": {
    "collapsed": true
   },
   "outputs": [],
   "source": [
    "correct_prediction = tf.equal(tf.argmax(logits, 1), tf.argmax(y, 1))\n",
    "accuracy_operation = tf.reduce_mean(tf.cast(correct_prediction, tf.float32))\n",
    "saver = tf.train.Saver()"
   ]
  },
  {
   "cell_type": "markdown",
   "metadata": {},
   "source": [
    "### Train, Validate and Test the Model"
   ]
  },
  {
   "cell_type": "markdown",
   "metadata": {},
   "source": [
    "A validation set can be used to assess how well the model is performing. A low accuracy on the training and validation\n",
    "sets imply underfitting. A high accuracy on the training set but low accuracy on the validation set implies overfitting."
   ]
  },
  {
   "cell_type": "code",
   "execution_count": 22,
   "metadata": {
    "scrolled": true
   },
   "outputs": [
    {
     "name": "stdout",
     "output_type": "stream",
     "text": [
      "Training...\n",
      "\n",
      "Epoch  1 Loss:     2.1822 Training Accuracy: 0.488319 Validation Accuracy: 0.409297\n",
      "Epoch  2 Loss:     1.3302 Training Accuracy: 0.748987 Validation Accuracy: 0.698186\n",
      "Epoch  3 Loss:     0.9546 Training Accuracy: 0.841547 Validation Accuracy: 0.794331\n",
      "Epoch  4 Loss:     1.1657 Training Accuracy: 0.822322 Validation Accuracy: 0.778005\n",
      "Epoch  5 Loss:     1.0745 Training Accuracy: 0.867007 Validation Accuracy: 0.806803\n",
      "Epoch  6 Loss:     0.8791 Training Accuracy: 0.895255 Validation Accuracy: 0.818141\n",
      "Epoch  7 Loss:     0.7680 Training Accuracy: 0.910572 Validation Accuracy: 0.856916\n",
      "Epoch  8 Loss:     0.7098 Training Accuracy: 0.923790 Validation Accuracy: 0.865987\n",
      "Epoch  9 Loss:     0.7460 Training Accuracy: 0.929969 Validation Accuracy: 0.866440\n",
      "Epoch 10 Loss:     0.6132 Training Accuracy: 0.917641 Validation Accuracy: 0.853288\n",
      "Epoch 11 Loss:     0.6387 Training Accuracy: 0.920055 Validation Accuracy: 0.864853\n",
      "Epoch 12 Loss:     0.4898 Training Accuracy: 0.939452 Validation Accuracy: 0.880046\n",
      "Epoch 13 Loss:     0.5633 Training Accuracy: 0.940831 Validation Accuracy: 0.878232\n",
      "Epoch 14 Loss:     0.5124 Training Accuracy: 0.940228 Validation Accuracy: 0.884354\n",
      "Epoch 15 Loss:     0.4585 Training Accuracy: 0.955831 Validation Accuracy: 0.889116\n",
      "Epoch 16 Loss:     0.5451 Training Accuracy: 0.952613 Validation Accuracy: 0.881860\n",
      "Epoch 17 Loss:     0.4676 Training Accuracy: 0.957326 Validation Accuracy: 0.891837\n",
      "Epoch 18 Loss:     0.4782 Training Accuracy: 0.953590 Validation Accuracy: 0.893424\n",
      "Epoch 19 Loss:     0.5907 Training Accuracy: 0.953705 Validation Accuracy: 0.888662\n",
      "Epoch 20 Loss:     0.4561 Training Accuracy: 0.963935 Validation Accuracy: 0.898866\n",
      "Epoch 21 Loss:     0.3845 Training Accuracy: 0.966033 Validation Accuracy: 0.895692\n",
      "Epoch 22 Loss:     0.4760 Training Accuracy: 0.961924 Validation Accuracy: 0.889343\n",
      "Epoch 23 Loss:     0.3667 Training Accuracy: 0.970430 Validation Accuracy: 0.905442\n",
      "Epoch 24 Loss:     0.4614 Training Accuracy: 0.967700 Validation Accuracy: 0.896599\n",
      "Epoch 25 Loss:     0.4948 Training Accuracy: 0.962153 Validation Accuracy: 0.882993\n",
      "Epoch 26 Loss:     0.3412 Training Accuracy: 0.965688 Validation Accuracy: 0.899320\n",
      "Epoch 27 Loss:     0.3488 Training Accuracy: 0.943072 Validation Accuracy: 0.868708\n",
      "Epoch 28 Loss:     0.3730 Training Accuracy: 0.971119 Validation Accuracy: 0.917007\n",
      "Epoch 29 Loss:     0.3673 Training Accuracy: 0.966004 Validation Accuracy: 0.891837\n",
      "Epoch 30 Loss:     0.3704 Training Accuracy: 0.976407 Validation Accuracy: 0.915873\n",
      "Epoch 31 Loss:     0.3293 Training Accuracy: 0.968360 Validation Accuracy: 0.897052\n",
      "Epoch 32 Loss:     0.3296 Training Accuracy: 0.978993 Validation Accuracy: 0.914966\n",
      "Epoch 33 Loss:     0.3153 Training Accuracy: 0.969711 Validation Accuracy: 0.901587\n",
      "Epoch 34 Loss:     0.3585 Training Accuracy: 0.980430 Validation Accuracy: 0.918141\n",
      "Epoch 35 Loss:     0.4006 Training Accuracy: 0.963705 Validation Accuracy: 0.898186\n",
      "Epoch 36 Loss:     0.3018 Training Accuracy: 0.981004 Validation Accuracy: 0.919955\n",
      "Epoch 37 Loss:     0.2805 Training Accuracy: 0.980142 Validation Accuracy: 0.910431\n",
      "Epoch 38 Loss:     0.3412 Training Accuracy: 0.978706 Validation Accuracy: 0.896599\n",
      "Epoch 39 Loss:     0.3446 Training Accuracy: 0.982700 Validation Accuracy: 0.896145\n",
      "Epoch 40 Loss:     0.3042 Training Accuracy: 0.978734 Validation Accuracy: 0.918141\n",
      "Epoch 41 Loss:     0.3195 Training Accuracy: 0.977068 Validation Accuracy: 0.905216\n",
      "Epoch 42 Loss:     0.3352 Training Accuracy: 0.972700 Validation Accuracy: 0.894558\n",
      "Epoch 43 Loss:     0.3294 Training Accuracy: 0.975976 Validation Accuracy: 0.905442\n",
      "Epoch 44 Loss:     0.3048 Training Accuracy: 0.983016 Validation Accuracy: 0.919728\n",
      "Epoch 45 Loss:     0.2572 Training Accuracy: 0.983620 Validation Accuracy: 0.904309\n",
      "Epoch 46 Loss:     0.3183 Training Accuracy: 0.981665 Validation Accuracy: 0.908844\n",
      "Epoch 47 Loss:     0.2656 Training Accuracy: 0.982700 Validation Accuracy: 0.919048\n",
      "Epoch 48 Loss:     0.2536 Training Accuracy: 0.981608 Validation Accuracy: 0.904082\n",
      "Epoch 49 Loss:     0.2484 Training Accuracy: 0.985056 Validation Accuracy: 0.917007\n",
      "Epoch 50 Loss:     0.2466 Training Accuracy: 0.982844 Validation Accuracy: 0.914059\n",
      "Model saved\n",
      "Training Accuracy =  0.982844\n",
      "Validation Accuracy =  0.914059\n",
      "Loss =  0.246574\n"
     ]
    }
   ],
   "source": [
    "with tf.Session() as sess:\n",
    "    sess.run(tf.global_variables_initializer())\n",
    "    num_examples = len(X_train)\n",
    "    \n",
    "    print(\"Training...\")\n",
    "    print()\n",
    "    for epoch in range(epochs):\n",
    "        Xtrain, ytrain = shuffle(train_features, train_labels)\n",
    "        batch_count = 0\n",
    "        for offset in range(0, num_examples, batch_size):\n",
    "            batch_count += 1\n",
    "            end = offset + batch_size\n",
    "            batch_x, batch_y = Xtrain[offset:end], ytrain[offset:end]\n",
    "            \n",
    "            sess.run(training_operation, feed_dict={\n",
    "                x: batch_x,\n",
    "                y: batch_y,\n",
    "                keep_prob: 0.5})\n",
    "\n",
    "            # Calculate batch loss and accuracy\n",
    "            loss = sess.run(cost, feed_dict={\n",
    "                x: batch_x,\n",
    "                y: batch_y,\n",
    "                keep_prob: 1.})\n",
    "            \n",
    "            train_acc = sess.run(accuracy_operation, feed_dict={\n",
    "                x: train_features,\n",
    "                y: train_labels,\n",
    "                keep_prob: 1.})\n",
    "            \n",
    "            valid_acc = sess.run(accuracy_operation, feed_dict={\n",
    "                x: valid_features,\n",
    "                y: valid_labels,\n",
    "                keep_prob: 1.})\n",
    "            #total_accuracy += (accuracy * len(batch_x))\n",
    "\n",
    "        print('Epoch {:>2} Loss: {:>10.4f} Training Accuracy: {:.6f} Validation Accuracy: {:.6f}'.format(\n",
    "            epoch + 1,\n",
    "            loss,\n",
    "            train_acc,\n",
    "            valid_acc))\n",
    "            \n",
    "        \n",
    "    saver.save(sess, './lenet')\n",
    "    print(\"Model saved\")\n",
    "    print(\"Training Accuracy = \", train_acc)\n",
    "    print(\"Validation Accuracy = \", valid_acc)\n",
    "    print(\"Loss = \", loss)"
   ]
  },
  {
   "cell_type": "code",
   "execution_count": 23,
   "metadata": {},
   "outputs": [
    {
     "name": "stdout",
     "output_type": "stream",
     "text": [
      "Training Stats:\n",
      "Training Accuracy =  0.982844\n",
      "Validation Accuracy =  0.914059\n",
      "Loss =  0.246574\n"
     ]
    }
   ],
   "source": [
    "print(\"Training Stats:\")\n",
    "print(\"Training Accuracy = \", train_acc)\n",
    "print(\"Validation Accuracy = \", valid_acc)\n",
    "print(\"Loss = \", loss)"
   ]
  },
  {
   "cell_type": "code",
   "execution_count": 24,
   "metadata": {},
   "outputs": [
    {
     "name": "stdout",
     "output_type": "stream",
     "text": [
      "INFO:tensorflow:Restoring parameters from ./lenet\n",
      "Testing Accuracy: 0.8984169363975525\n"
     ]
    }
   ],
   "source": [
    "# Calculate Test Accuracy\n",
    "with tf.Session() as sess:\n",
    "    saver.restore(sess, tf.train.latest_checkpoint('.'))\n",
    "    test_acc = sess.run(accuracy_operation, feed_dict={\n",
    "        x: test_features,\n",
    "        y: test_labels,\n",
    "        keep_prob: 1.})\n",
    "    print('Testing Accuracy: {}'.format(test_acc))"
   ]
  },
  {
   "cell_type": "markdown",
   "metadata": {},
   "source": [
    "---\n",
    "\n",
    "## Step 3: Test a Model on New Images\n",
    "\n",
    "To give yourself more insight into how your model is working, download at least five pictures of German traffic signs from the web and use your model to predict the traffic sign type.\n",
    "\n",
    "You may find `signnames.csv` useful as it contains mappings from the class id (integer) to the actual sign name."
   ]
  },
  {
   "cell_type": "markdown",
   "metadata": {},
   "source": [
    "### Load and Output the Images"
   ]
  },
  {
   "cell_type": "markdown",
   "metadata": {},
   "source": [
    "Load new Images"
   ]
  },
  {
   "cell_type": "code",
   "execution_count": 25,
   "metadata": {
    "collapsed": true
   },
   "outputs": [],
   "source": [
    "### Load the images and plot them here.\n",
    "import os, os.path\n",
    "from PIL import Image\n",
    "\n",
    "imgs = []\n",
    "path = './test-data/'\n",
    "valid_images = [\".jpg\",\".png\"]\n",
    "for filename in os.listdir(path):\n",
    "    ext = os.path.splitext(filename)[1]\n",
    "    if ext.lower() not in valid_images:\n",
    "        continue\n",
    "    imgs.append(np.asarray(Image.open(os.path.join(path,filename)).resize((32,32))))"
   ]
  },
  {
   "cell_type": "code",
   "execution_count": 26,
   "metadata": {
    "scrolled": true
   },
   "outputs": [
    {
     "data": {
      "text/plain": [
       "((32, 32, 3), (32, 32, 3), (32, 32, 3), (32, 32, 3), (32, 32, 3))"
      ]
     },
     "execution_count": 26,
     "metadata": {},
     "output_type": "execute_result"
    }
   ],
   "source": [
    "imgs[0].shape,imgs[1].shape,imgs[2].shape,imgs[3].shape,imgs[4].shape"
   ]
  },
  {
   "cell_type": "code",
   "execution_count": 27,
   "metadata": {
    "collapsed": true
   },
   "outputs": [],
   "source": [
    "import csv\n",
    "with open('signnames.csv', mode='r') as infile:\n",
    "    reader = csv.reader(infile)\n",
    "    sign_labels = {}\n",
    "    for row in reader:\n",
    "        sign_index, sign_name = row\n",
    "        sign_labels[sign_index] = sign_name"
   ]
  },
  {
   "cell_type": "code",
   "execution_count": 28,
   "metadata": {},
   "outputs": [
    {
     "data": {
      "text/plain": [
       "['No entry', 'Road work', 'Speed limit (30km/h)', 'Stop', 'Yield']"
      ]
     },
     "execution_count": 28,
     "metadata": {},
     "output_type": "execute_result"
    }
   ],
   "source": [
    "imgs_labels = [17, 25, 1, 14, 13] \n",
    "imgs_labels = [sign_labels[str(label)] for label in imgs_labels]\n",
    "imgs_labels"
   ]
  },
  {
   "cell_type": "code",
   "execution_count": 29,
   "metadata": {},
   "outputs": [
    {
     "data": {
      "image/png": "[encoded data removed]",
      "text/plain": [
       "<matplotlib.figure.Figure at 0x7fcfb80bf828>"
      ]
     },
     "metadata": {},
     "output_type": "display_data"
    }
   ],
   "source": [
    "# Display the images\n",
    "plt.rcParams[\"figure.figsize\"] = [15, 5]\n",
    "\n",
    "for i in range(len(imgs)):\n",
    "    plt.subplot(1, len(imgs), i+1)\n",
    "    plt.imshow(imgs[i])\n",
    "    plt.title(imgs_labels[i])\n",
    "\n",
    "plt.tight_layout()\n",
    "plt.show()"
   ]
  },
  {
   "cell_type": "markdown",
   "metadata": {},
   "source": [
    "Reshape and preprocess images"
   ]
  },
  {
   "cell_type": "code",
   "execution_count": 30,
   "metadata": {
    "collapsed": true
   },
   "outputs": [],
   "source": [
    "#reshape\n",
    "imgs_pre = rgb2gray(np.array(imgs))\n",
    "imgs_pre = normalize_grayscale(imgs_pre)"
   ]
  },
  {
   "cell_type": "code",
   "execution_count": 31,
   "metadata": {},
   "outputs": [
    {
     "data": {
      "image/png": "[encoded data removed]",
      "text/plain": [
       "<matplotlib.figure.Figure at 0x7fcfbe6a9198>"
      ]
     },
     "metadata": {},
     "output_type": "display_data"
    }
   ],
   "source": [
    "# Display the images\n",
    "plt.rcParams[\"figure.figsize\"] = [15, 5]\n",
    "\n",
    "for i in range(len(imgs_pre)):\n",
    "    plt.subplot(1, len(imgs_pre), i+1)\n",
    "    plt.imshow(imgs_pre[i].reshape(32,32), cmap=\"gray\")\n",
    "    plt.title('Image: %d' % i)\n",
    "\n",
    "plt.tight_layout()\n",
    "plt.show()"
   ]
  },
  {
   "cell_type": "markdown",
   "metadata": {},
   "source": [
    "### Predict the Sign Type for Each Image"
   ]
  },
  {
   "cell_type": "code",
   "execution_count": 32,
   "metadata": {},
   "outputs": [
    {
     "name": "stdout",
     "output_type": "stream",
     "text": [
      "INFO:tensorflow:Restoring parameters from ./lenet\n"
     ]
    }
   ],
   "source": [
    "### Run the predictions here and use the model to output the prediction for each image.\n",
    "### Make sure to pre-process the images with the same pre-processing pipeline used earlier.\n",
    "### Feel free to use as many code cells as needed.\n",
    "\n",
    "with tf.Session() as sess:\n",
    "    saver.restore(sess, tf.train.latest_checkpoint('.'))\n",
    "\n",
    "    result_logits = sess.run(logits, feed_dict={x: np.array(imgs_pre), keep_prob : 1.0})"
   ]
  },
  {
   "cell_type": "markdown",
   "metadata": {},
   "source": [
    "### Output Top 5 Softmax Probabilities For Each Image Found on the Web"
   ]
  },
  {
   "cell_type": "markdown",
   "metadata": {},
   "source": [
    "For each of the new images, print out the model's softmax probabilities to show the **certainty** of the model's predictions (limit the output to the top 5 probabilities for each image). [`tf.nn.top_k`](https://www.tensorflow.org/versions/r0.12/api_docs/python/nn.html#top_k) could prove helpful here. \n",
    "\n",
    "The example below demonstrates how tf.nn.top_k can be used to find the top k predictions for each image.\n",
    "\n",
    "`tf.nn.top_k` will return the values and indices (class ids) of the top k predictions. So if k=3, for each sign, it'll return the 3 largest probabilities (out of a possible 43) and the correspoding class ids.\n",
    "\n",
    "Take this numpy array as an example. The values in the array represent predictions. The array contains softmax probabilities for five candidate images with six possible classes. `tf.nn.top_k` is used to choose the three classes with the highest probability:\n",
    "\n",
    "```\n",
    "# (5, 6) array\n",
    "a = np.array([[ 0.24879643,  0.07032244,  0.12641572,  0.34763842,  0.07893497,\n",
    "         0.12789202],\n",
    "       [ 0.28086119,  0.27569815,  0.08594638,  0.0178669 ,  0.18063401,\n",
    "         0.15899337],\n",
    "       [ 0.26076848,  0.23664738,  0.08020603,  0.07001922,  0.1134371 ,\n",
    "         0.23892179],\n",
    "       [ 0.11943333,  0.29198961,  0.02605103,  0.26234032,  0.1351348 ,\n",
    "         0.16505091],\n",
    "       [ 0.09561176,  0.34396535,  0.0643941 ,  0.16240774,  0.24206137,\n",
    "         0.09155967]])\n",
    "```\n",
    "\n",
    "Running it through `sess.run(tf.nn.top_k(tf.constant(a), k=3))` produces:\n",
    "\n",
    "```\n",
    "TopKV2(values=array([[ 0.34763842,  0.24879643,  0.12789202],\n",
    "       [ 0.28086119,  0.27569815,  0.18063401],\n",
    "       [ 0.26076848,  0.23892179,  0.23664738],\n",
    "       [ 0.29198961,  0.26234032,  0.16505091],\n",
    "       [ 0.34396535,  0.24206137,  0.16240774]]), indices=array([[3, 0, 5],\n",
    "       [0, 1, 4],\n",
    "       [0, 5, 1],\n",
    "       [1, 3, 5],\n",
    "       [1, 4, 3]], dtype=int32))\n",
    "```\n",
    "\n",
    "Looking just at the first row we get `[ 0.34763842,  0.24879643,  0.12789202]`, you can confirm these are the 3 largest probabilities in `a`. You'll also notice `[3, 0, 5]` are the corresponding indices."
   ]
  },
  {
   "cell_type": "code",
   "execution_count": 33,
   "metadata": {},
   "outputs": [
    {
     "data": {
      "text/plain": [
       "(5, 43)"
      ]
     },
     "execution_count": 33,
     "metadata": {},
     "output_type": "execute_result"
    }
   ],
   "source": [
    "result_logits.shape"
   ]
  },
  {
   "cell_type": "code",
   "execution_count": 34,
   "metadata": {},
   "outputs": [
    {
     "name": "stdout",
     "output_type": "stream",
     "text": [
      "Image 0 probabilities: [ 0.65086615  0.11174591  0.05388388  0.04142274  0.03971648] \n",
      " and predicted classes: [15 14 35 22  1]\n",
      "Predicted labels: [ No vehicles , Stop , Ahead only , Bumpy road , Speed limit (30km/h) ]\n",
      "Image 1 probabilities: [  9.99116600e-01   2.25275071e-04   2.22122879e-04   1.68201426e-04\n",
      "   1.06129955e-04] \n",
      " and predicted classes: [25  1 33 11 12]\n",
      "Predicted labels: [ Road work , Speed limit (30km/h) , Turn right ahead , Right-of-way at the next intersection , Priority road ]\n",
      "Image 2 probabilities: [ 0.74948287  0.23639211  0.00956781  0.00158004  0.00091413] \n",
      " and predicted classes: [ 1  0 37  4  2]\n",
      "Predicted labels: [ Speed limit (30km/h) , Speed limit (20km/h) , Go straight or left , Speed limit (70km/h) , Speed limit (50km/h) ]\n",
      "Image 3 probabilities: [ 0.57867926  0.17787278  0.14930598  0.04970332  0.02288317] \n",
      " and predicted classes: [ 7 10  9 42 12]\n",
      "Predicted labels: [ Speed limit (100km/h) , No passing for vehicles over 3.5 metric tons , No passing , End of no passing by vehicles over 3.5 metric tons , Priority road ]\n",
      "Image 4 probabilities: [  9.06172454e-01   9.36645046e-02   8.53347738e-05   5.81477689e-05\n",
      "   1.89277325e-05] \n",
      " and predicted classes: [13 12 14 35 33]\n",
      "Predicted labels: [ Yield , Priority road , Stop , Ahead only , Turn right ahead ]\n"
     ]
    }
   ],
   "source": [
    "### Print out the top five softmax probabilities for the predictions on the German traffic sign images found on the web. \n",
    "### Feel free to use as many code cells as needed.\n",
    "# result_softmax = (5, 43)\n",
    "# result_top_k = (2, 5, 5)\n",
    "\n",
    "with tf.Session() as sess:\n",
    "    result_softmax = sess.run(tf.nn.softmax(result_logits))\n",
    "    result_top_k = sess.run(tf.nn.top_k(result_softmax , k= 5, sorted=True))\n",
    "\n",
    "result_final = []\n",
    "for i in range(len(imgs)):\n",
    "    print('Image', i, 'probabilities:', result_top_k[0][i], '\\n and predicted classes:', result_top_k[1][i])\n",
    "    result_labels = [sign_labels[str(pred)] for pred in result_top_k[1][i]]\n",
    "    print('Predicted labels: [', result_labels[0], \",\", result_labels[1],\",\", result_labels[2],\",\", result_labels[3],\",\", result_labels[4],\"]\")\n",
    "    result_final.append(result_top_k[1][i][0])\n",
    "    \n",
    "#result_final = [Sign_labelresult_final]"
   ]
  },
  {
   "cell_type": "markdown",
   "metadata": {},
   "source": [
    "### Analyze Performance"
   ]
  },
  {
   "cell_type": "code",
   "execution_count": 35,
   "metadata": {},
   "outputs": [
    {
     "name": "stdout",
     "output_type": "stream",
     "text": [
      "Expected Result:  ['No entry', 'Road work', 'Speed limit (30km/h)', 'Stop', 'Yield']\n",
      "Predicted Result:  ['No vehicles', 'Road work', 'Speed limit (30km/h)', 'Speed limit (100km/h)', 'Yield']\n",
      "Accuracy of prediction = % 60.0\n"
     ]
    }
   ],
   "source": [
    "### Calculate the accuracy for these 5 new images. \n",
    "### For example, if the model predicted 1 out of 5 signs correctly, it's 20% accurate on these new images.\n",
    "print('Expected Result: ', imgs_labels)\n",
    "result_final_labels = [sign_labels[str(result)] for result in result_final]\n",
    "print('Predicted Result: ', result_final_labels)\n",
    "count = 0\n",
    "for i in range(len(result_final)):\n",
    "    if result_final_labels[i] == imgs_labels[i]:\n",
    "        count = count + 1\n",
    "print(\"Accuracy of prediction = %\", (count/len(imgs_labels))*100)        \n"
   ]
  },
  {
   "cell_type": "markdown",
   "metadata": {},
   "source": [
    "### Project Writeup\n",
    "\n",
    "Once you have completed the code implementation, document your results in a project writeup using this [template](https://github.com/udacity/CarND-Traffic-Sign-Classifier-Project/blob/master/writeup_template.md) as a guide. The writeup can be in a markdown or pdf file. "
   ]
  },
  {
   "cell_type": "markdown",
   "metadata": {},
   "source": [
    "> **Note**: Once you have completed all of the code implementations and successfully answered each question above, you may finalize your work by exporting the iPython Notebook as an HTML document. You can do this by using the menu above and navigating to  \\n\",\n",
    "    \"**File -> Download as -> HTML (.html)**. Include the finished document along with this notebook as your submission."
   ]
  },
  {
   "cell_type": "markdown",
   "metadata": {},
   "source": [
    "---\n",
    "\n",
    "## Step 4 (Optional): Visualize the Neural Network's State with Test Images\n",
    "\n",
    " This Section is not required to complete but acts as an additional excersise for understaning the output of a neural network's weights. While neural networks can be a great learning device they are often referred to as a black box. We can understand what the weights of a neural network look like better by plotting their feature maps. After successfully training your neural network you can see what it's feature maps look like by plotting the output of the network's weight layers in response to a test stimuli image. From these plotted feature maps, it's possible to see what characteristics of an image the network finds interesting. For a sign, maybe the inner network feature maps react with high activation to the sign's boundary outline or to the contrast in the sign's painted symbol.\n",
    "\n",
    " Provided for you below is the function code that allows you to get the visualization output of any tensorflow weight layer you want. The inputs to the function should be a stimuli image, one used during training or a new one you provided, and then the tensorflow variable name that represents the layer's state during the training process, for instance if you wanted to see what the [LeNet lab's](https://classroom.udacity.com/nanodegrees/nd013/parts/fbf77062-5703-404e-b60c-95b78b2f3f9e/modules/6df7ae49-c61c-4bb2-a23e-6527e69209ec/lessons/601ae704-1035-4287-8b11-e2c2716217ad/concepts/d4aca031-508f-4e0b-b493-e7b706120f81) feature maps looked like for it's second convolutional layer you could enter conv2 as the tf_activation variable.\n",
    "\n",
    "For an example of what feature map outputs look like, check out NVIDIA's results in their paper [End-to-End Deep Learning for Self-Driving Cars](https://devblogs.nvidia.com/parallelforall/deep-learning-self-driving-cars/) in the section Visualization of internal CNN State. NVIDIA was able to show that their network's inner weights had high activations to road boundary lines by comparing feature maps from an image with a clear path to one without. Try experimenting with a similar test to show that your trained network's weights are looking for interesting features, whether it's looking at differences in feature maps from images with or without a sign, or even what feature maps look like in a trained network vs a completely untrained one on the same sign image.\n",
    "\n",
    "<figure>\n",
    " <img src=\"visualize_cnn.png\" width=\"380\" alt=\"Combined Image\" />\n",
    " <figcaption>\n",
    " <p></p> \n",
    " <p style=\"text-align: center;\"> Your output should look something like this (above)</p> \n",
    " </figcaption>\n",
    "</figure>\n",
    " <p></p> \n"
   ]
  },
  {
   "cell_type": "code",
   "execution_count": 36,
   "metadata": {
    "collapsed": true
   },
   "outputs": [],
   "source": [
    "### Visualize your network's feature maps here.\n",
    "### Feel free to use as many code cells as needed.\n",
    "\n",
    "# image_input: the test image being fed into the network to produce the feature maps\n",
    "# tf_activation: should be a tf variable name used during your training procedure that represents the calculated state of a specific weight layer\n",
    "# activation_min/max: can be used to view the activation contrast in more detail, by default matplot sets min and max to the actual min and max values of the output\n",
    "# plt_num: used to plot out multiple different weight feature map sets on the same block, just extend the plt number for each new feature map entry\n",
    "\n",
    "def outputFeatureMap(image_input, tf_activation, activation_min=-1, activation_max=-1 ,plt_num=1):\n",
    "    # Here make sure to preprocess your image_input in a way your network expects\n",
    "    # with size, normalization, ect if needed\n",
    "    # image_input =\n",
    "    # Note: x should be the same name as your network's tensorflow data placeholder variable\n",
    "    # If you get an error tf_activation is not defined it may be having trouble accessing the variable from inside a function\n",
    "    activation = tf_activation.eval(session=sess,feed_dict={x : image_input})\n",
    "    featuremaps = activation.shape[3]\n",
    "    plt.figure(plt_num, figsize=(15,15))\n",
    "    for featuremap in range(featuremaps):\n",
    "        plt.subplot(6,8, featuremap+1) # sets the number of feature maps to show on each row and column\n",
    "        plt.title('FeatureMap ' + str(featuremap)) # displays the feature map number\n",
    "        if activation_min != -1 & activation_max != -1:\n",
    "            plt.imshow(activation[0,:,:, featuremap], interpolation=\"nearest\", vmin =activation_min, vmax=activation_max, cmap=\"gray\")\n",
    "        elif activation_max != -1:\n",
    "            plt.imshow(activation[0,:,:, featuremap], interpolation=\"nearest\", vmax=activation_max, cmap=\"gray\")\n",
    "        elif activation_min !=-1:\n",
    "            plt.imshow(activation[0,:,:, featuremap], interpolation=\"nearest\", vmin=activation_min, cmap=\"gray\")\n",
    "        else:\n",
    "            plt.imshow(activation[0,:,:, featuremap], interpolation=\"nearest\", cmap=\"gray\")"
   ]
  }
 ],
 "metadata": {
  "anaconda-cloud": {},
  "kernelspec": {
   "display_name": "Python 3",
   "language": "python",
   "name": "python3"
  },
  "language_info": {
   "codemirror_mode": {
    "name": "ipython",
    "version": 3
   },
   "file_extension": ".py",
   "mimetype": "text/x-python",
   "name": "python",
   "nbconvert_exporter": "python",
   "pygments_lexer": "ipython3",
   "version": "3.6.4"
  }
 },
 "nbformat": 4,
 "nbformat_minor": 1
}
